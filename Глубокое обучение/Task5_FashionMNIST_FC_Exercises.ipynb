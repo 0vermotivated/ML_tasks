{
 "cells": [
  {
   "cell_type": "markdown",
   "metadata": {},
   "source": [
    "# Распознавание предметов одежды при помощи полносвязной нейронной сети"
   ]
  },
  {
   "cell_type": "code",
   "execution_count": 12,
   "metadata": {
    "colab": {},
    "colab_type": "code",
    "id": "DWr6cvb9pS3J"
   },
   "outputs": [],
   "source": [
    "import torch\n",
    "import random\n",
    "import numpy as np\n",
    "\n",
    "random.seed(0)\n",
    "np.random.seed(0)\n",
    "torch.manual_seed(0)\n",
    "torch.cuda.manual_seed(0)\n",
    "torch.backends.cudnn.deterministic = True"
   ]
  },
  {
   "cell_type": "markdown",
   "metadata": {},
   "source": [
    "Загрузим набор данных FashionMNIST:"
   ]
  },
  {
   "cell_type": "code",
   "execution_count": 13,
   "metadata": {
    "colab": {},
    "colab_type": "code",
    "id": "MqGQWTDIpS3R"
   },
   "outputs": [],
   "source": [
    "import torchvision.datasets\n",
    "MNIST_train = torchvision.datasets.MNIST('./', download=True, train=True)\n",
    "MNIST_test = torchvision.datasets.MNIST('./', download=True, train=False)"
   ]
  },
  {
   "cell_type": "markdown",
   "metadata": {},
   "source": [
    "Разделим данные на тестовые и тренировочные множества:"
   ]
  },
  {
   "cell_type": "code",
   "execution_count": 14,
   "metadata": {
    "colab": {},
    "colab_type": "code",
    "id": "vv_Lz7PYpS3U"
   },
   "outputs": [
    {
     "name": "stderr",
     "output_type": "stream",
     "text": [
      "D:\\anaconda\\lib\\site-packages\\torchvision\\datasets\\mnist.py:75: UserWarning: train_data has been renamed data\n",
      "  warnings.warn(\"train_data has been renamed data\")\n",
      "D:\\anaconda\\lib\\site-packages\\torchvision\\datasets\\mnist.py:65: UserWarning: train_labels has been renamed targets\n",
      "  warnings.warn(\"train_labels has been renamed targets\")\n",
      "D:\\anaconda\\lib\\site-packages\\torchvision\\datasets\\mnist.py:80: UserWarning: test_data has been renamed data\n",
      "  warnings.warn(\"test_data has been renamed data\")\n",
      "D:\\anaconda\\lib\\site-packages\\torchvision\\datasets\\mnist.py:70: UserWarning: test_labels has been renamed targets\n",
      "  warnings.warn(\"test_labels has been renamed targets\")\n"
     ]
    }
   ],
   "source": [
    "X_train = MNIST_train.train_data\n",
    "y_train = MNIST_train.train_labels\n",
    "X_test = MNIST_test.test_data\n",
    "y_test = MNIST_test.test_labels"
   ]
  },
  {
   "cell_type": "markdown",
   "metadata": {},
   "source": [
    "Посмотрим на тип данных:"
   ]
  },
  {
   "cell_type": "code",
   "execution_count": 15,
   "metadata": {
    "colab": {
     "base_uri": "https://localhost:8080/",
     "height": 35
    },
    "colab_type": "code",
    "id": "hMhsAedlrQF5",
    "outputId": "ae08bd21-79ff-48da-9886-48996a178110"
   },
   "outputs": [
    {
     "data": {
      "text/plain": [
       "(torch.uint8, torch.int64)"
      ]
     },
     "execution_count": 15,
     "metadata": {},
     "output_type": "execute_result"
    }
   ],
   "source": [
    "X_train.dtype, y_train.dtype"
   ]
  },
  {
   "cell_type": "markdown",
   "metadata": {},
   "source": [
    "Переведём их в тип float:"
   ]
  },
  {
   "cell_type": "code",
   "execution_count": 16,
   "metadata": {
    "colab": {},
    "colab_type": "code",
    "id": "_yTaVOrPvap6"
   },
   "outputs": [],
   "source": [
    "X_train = X_train.float()\n",
    "X_test = X_test.float()"
   ]
  },
  {
   "cell_type": "markdown",
   "metadata": {},
   "source": [
    "Узнаем размерности получившихся четырёх множеств:"
   ]
  },
  {
   "cell_type": "code",
   "execution_count": 17,
   "metadata": {
    "colab": {
     "base_uri": "https://localhost:8080/",
     "height": 35
    },
    "colab_type": "code",
    "id": "_gfupg4kpS3X",
    "outputId": "e72c3ff4-50f7-4695-d5d5-f838e7ac2667"
   },
   "outputs": [
    {
     "data": {
      "text/plain": [
       "(torch.Size([60000]), torch.Size([10000]))"
      ]
     },
     "execution_count": 17,
     "metadata": {},
     "output_type": "execute_result"
    }
   ],
   "source": [
    "X_train.shape, X_test.shape\n",
    "y_train.shape, y_test.shape"
   ]
  },
  {
   "cell_type": "markdown",
   "metadata": {},
   "source": [
    "Выведем на экран одно из изображений:"
   ]
  },
  {
   "cell_type": "code",
   "execution_count": null,
   "metadata": {},
   "outputs": [],
   "source": [
    "import matplotlib.pyplot as plt\n",
    "plt.imshow(X_train[0, :, :])\n",
    "plt.show()\n",
    "print(y_train[0])"
   ]
  },
  {
   "cell_type": "markdown",
   "metadata": {},
   "source": [
    "Изменим размерности, чтобы выполнялось последующее матричное умножение:"
   ]
  },
  {
   "cell_type": "code",
   "execution_count": 18,
   "metadata": {
    "colab": {},
    "colab_type": "code",
    "id": "IUZgNg7zpS3j"
   },
   "outputs": [],
   "source": [
    "X_train = X_train.reshape([-1, 28 * 28])\n",
    "X_test = X_test.reshape([-1, 28 * 28])"
   ]
  },
  {
   "cell_type": "markdown",
   "metadata": {},
   "source": [
    "Напишем класс для нейронной сети, она будет состоять из входного слоя с последующей функцией активации сигмоидой и входного слоя:"
   ]
  },
  {
   "cell_type": "code",
   "execution_count": 19,
   "metadata": {
    "colab": {},
    "colab_type": "code",
    "id": "k7l65slppS3l"
   },
   "outputs": [],
   "source": [
    "class FashionMNISTNet(torch.nn.Module):\n",
    "    def __init__(self, n_hidden_neurons):\n",
    "        super(FashionMNISTNet, self).__init__()\n",
    "        self.fc1 = torch.nn.Linear(28 * 28, n_hidden_neurons)\n",
    "        self.ac1 = torch.nn.Sigmoid()\n",
    "        self.fc2 = torch.nn.Linear(n_hidden_neurons, 10)\n",
    "\n",
    "    \n",
    "    def forward(self, x):\n",
    "        x = self.fc1(x)\n",
    "        x = self.ac1(x)\n",
    "        x = self.fc2(x)\n",
    "        return x\n"
   ]
  },
  {
   "cell_type": "markdown",
   "metadata": {},
   "source": [
    "Создадим экземпляр класса с 90 нейронами на скрытом слое:"
   ]
  },
  {
   "cell_type": "code",
   "execution_count": 20,
   "metadata": {},
   "outputs": [],
   "source": [
    "fashion_mnist_net = FashionMNISTNet(90)"
   ]
  },
  {
   "cell_type": "markdown",
   "metadata": {
    "colab": {},
    "colab_type": "code",
    "id": "iUHy-780po9d"
   },
   "source": [
    "Определим функцию потерь через кросс-энтропию, а в качестве оптимизатора возьмём Adam с шагом обучения 0,001."
   ]
  },
  {
   "cell_type": "code",
   "execution_count": 22,
   "metadata": {
    "colab": {},
    "colab_type": "code",
    "id": "00_2j2igpS3o"
   },
   "outputs": [],
   "source": [
    "loss = torch.nn.CrossEntropyLoss()\n",
    "optimizer = torch.optim.Adam(fashion_mnist_net.parameters(), lr=1.0e-3)"
   ]
  },
  {
   "cell_type": "markdown",
   "metadata": {},
   "source": [
    "Обучим нашу нейронную сеть:"
   ]
  },
  {
   "cell_type": "code",
   "execution_count": 23,
   "metadata": {
    "colab": {},
    "colab_type": "code",
    "id": "wZtqiGvfpS3r"
   },
   "outputs": [
    {
     "name": "stdout",
     "output_type": "stream",
     "text": [
      "tensor(0.9063)\n",
      "tensor(0.9189)\n",
      "tensor(0.9214)\n",
      "tensor(0.9208)\n",
      "tensor(0.9239)\n",
      "tensor(0.9260)\n",
      "tensor(0.9281)\n",
      "tensor(0.9304)\n",
      "tensor(0.9360)\n",
      "tensor(0.9230)\n",
      "tensor(0.9308)\n",
      "tensor(0.9360)\n",
      "tensor(0.9356)\n",
      "tensor(0.9309)\n",
      "tensor(0.9371)\n",
      "tensor(0.9327)\n",
      "tensor(0.9384)\n",
      "tensor(0.9392)\n",
      "tensor(0.9317)\n",
      "tensor(0.9363)\n",
      "tensor(0.9371)\n",
      "tensor(0.9392)\n",
      "tensor(0.9383)\n",
      "tensor(0.9398)\n",
      "tensor(0.9419)\n",
      "tensor(0.9440)\n",
      "tensor(0.9414)\n",
      "tensor(0.9441)\n",
      "tensor(0.9416)\n",
      "tensor(0.9451)\n",
      "tensor(0.9437)\n",
      "tensor(0.9416)\n",
      "tensor(0.9446)\n",
      "tensor(0.9476)\n",
      "tensor(0.9482)\n",
      "tensor(0.9409)\n",
      "tensor(0.9424)\n",
      "tensor(0.9449)\n",
      "tensor(0.9416)\n",
      "tensor(0.9505)\n",
      "tensor(0.9428)\n",
      "tensor(0.9450)\n",
      "tensor(0.9465)\n",
      "tensor(0.9414)\n",
      "tensor(0.9465)\n",
      "tensor(0.9484)\n",
      "tensor(0.9489)\n",
      "tensor(0.9461)\n",
      "tensor(0.9489)\n",
      "tensor(0.9483)\n",
      "tensor(0.9496)\n",
      "tensor(0.9488)\n",
      "tensor(0.9464)\n",
      "tensor(0.9512)\n",
      "tensor(0.9513)\n",
      "tensor(0.9518)\n",
      "tensor(0.9526)\n",
      "tensor(0.9490)\n",
      "tensor(0.9528)\n",
      "tensor(0.9506)\n",
      "tensor(0.9500)\n",
      "tensor(0.9519)\n",
      "tensor(0.9525)\n",
      "tensor(0.9480)\n",
      "tensor(0.9512)\n",
      "tensor(0.9516)\n",
      "tensor(0.9508)\n",
      "tensor(0.9519)\n",
      "tensor(0.9487)\n",
      "tensor(0.9550)\n",
      "tensor(0.9545)\n",
      "tensor(0.9526)\n",
      "tensor(0.9521)\n",
      "tensor(0.9481)\n",
      "tensor(0.9523)\n",
      "tensor(0.9512)\n",
      "tensor(0.9510)\n",
      "tensor(0.9532)\n",
      "tensor(0.9537)\n",
      "tensor(0.9517)\n",
      "tensor(0.9471)\n",
      "tensor(0.9527)\n",
      "tensor(0.9500)\n",
      "tensor(0.9526)\n",
      "tensor(0.9496)\n",
      "tensor(0.9560)\n",
      "tensor(0.9548)\n",
      "tensor(0.9542)\n",
      "tensor(0.9532)\n",
      "tensor(0.9574)\n",
      "tensor(0.9561)\n",
      "tensor(0.9561)\n",
      "tensor(0.9516)\n",
      "tensor(0.9517)\n",
      "tensor(0.9563)\n",
      "tensor(0.9570)\n",
      "tensor(0.9574)\n",
      "tensor(0.9546)\n",
      "tensor(0.9550)\n",
      "tensor(0.9516)\n"
     ]
    }
   ],
   "source": [
    "batch_size = 100\n",
    "\n",
    "test_accuracy_history = []\n",
    "test_loss_history = []\n",
    "\n",
    "for epoch in range(100):\n",
    "    order = np.random.permutation(len(X_train))\n",
    "    \n",
    "    for start_index in range(0, len(X_train), batch_size):\n",
    "        optimizer.zero_grad()\n",
    "        \n",
    "        batch_indexes = order[start_index:start_index+batch_size]\n",
    "        \n",
    "        X_batch = X_train[batch_indexes]\n",
    "        y_batch = y_train[batch_indexes]\n",
    "        \n",
    "        preds = fashion_mnist_net.forward(X_batch)\n",
    "        \n",
    "        loss_value = loss(preds, y_batch)\n",
    "        loss_value.backward()\n",
    "\n",
    "        \n",
    "        optimizer.step()\n",
    "\n",
    "\n",
    "    test_preds = fashion_mnist_net.forward(X_test)\n",
    "    \n",
    "    test_loss_history.append(loss(test_preds, y_test))\n",
    "    \n",
    "    accuracy = (test_preds.argmax(dim=1) == y_test).float().mean()\n",
    "    test_accuracy_history.append(accuracy)\n",
    "    print(accuracy)"
   ]
  },
  {
   "cell_type": "markdown",
   "metadata": {},
   "source": [
    "Выведем на экран значения точности и потерь:"
   ]
  },
  {
   "cell_type": "code",
   "execution_count": null,
   "metadata": {},
   "outputs": [],
   "source": [
    "plt.plot(test_accuracy_history)\n",
    "plt.plot(test_loss_history)"
   ]
  }
 ],
 "metadata": {
  "accelerator": "GPU",
  "colab": {
   "collapsed_sections": [],
   "name": "Lesson 5 Digits Recognition Video.ipynb",
   "provenance": [],
   "version": "0.3.2"
  },
  "kernelspec": {
   "display_name": "Python 3 (ipykernel)",
   "language": "python",
   "name": "python3"
  },
  "language_info": {
   "codemirror_mode": {
    "name": "ipython",
    "version": 3
   },
   "file_extension": ".py",
   "mimetype": "text/x-python",
   "name": "python",
   "nbconvert_exporter": "python",
   "pygments_lexer": "ipython3",
   "version": "3.9.13"
  }
 },
 "nbformat": 4,
 "nbformat_minor": 1
}
