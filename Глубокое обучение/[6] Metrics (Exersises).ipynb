{
 "cells": [
  {
   "cell_type": "markdown",
   "id": "a9c61414",
   "metadata": {},
   "source": [
    "## Метрики оценки качества работы искусственной нейронной сети"
   ]
  },
  {
   "cell_type": "markdown",
   "id": "a7c8267e",
   "metadata": {},
   "source": [
    "## Accuracy"
   ]
  },
  {
   "cell_type": "markdown",
   "id": "a917c794",
   "metadata": {},
   "source": [
    "Интуитивно понятной, очевидной и почти неиспользуемой метрикой является accuracy — доля правильных ответов алгоритма.\n",
    "\n",
    "$$ \\large Accuracy = \\frac{P}{N}, $$\n",
    "\n",
    "где $P$ — количество верно предсказанных классов,\n",
    "\n",
    "$\\quad\\  N$ — общее количество тестовых примеров."
   ]
  },
  {
   "cell_type": "code",
   "execution_count": 93,
   "id": "2c388359",
   "metadata": {},
   "outputs": [
    {
     "data": {
      "text/plain": [
       "0.5555555555555556"
      ]
     },
     "execution_count": 93,
     "metadata": {},
     "output_type": "execute_result"
    }
   ],
   "source": [
    "from sklearn.metrics import accuracy_score\n",
    "\n",
    "\n",
    "y_targ = [0, 0, 0, 1, 1, 1, 2, 2, 2]\n",
    "y_pred = [1, 0, 0, 0, 1, 2, 0, 2, 2]\n",
    "\n",
    "accuracy_score(y_targ, y_pred)"
   ]
  },
  {
   "cell_type": "markdown",
   "id": "95f4210d",
   "metadata": {},
   "source": [
    "**Какие есть недостатки у такого способа подсчёта?**"
   ]
  },
  {
   "cell_type": "markdown",
   "id": "94f8fedc",
   "metadata": {},
   "source": [
    "<img src =\"https://edunet.kea.su/repo/EduNet-content/L01/out/problem_of_simple_way_to_compute_accuracy.png\" width=\"600\" >"
   ]
  },
  {
   "cell_type": "markdown",
   "id": "8000915d",
   "metadata": {},
   "source": [
    "Accuracy нельзя использовать, если **данные не сбалансированы**. То есть в одном из классов больше представителей, чем в другом.\n",
    "\n",
    "На рисунке выше мы видим, что при явном количественном преобладании объектов класса airplane модель может классифицировать все объекты как airplane и при этом получить такую же точность, как модель, которая учит все 3 класса, так как количество ошибок будет равно числу объектов классов, в которых меньше представителей (в данном случае в классах automobile и bird по 10 представителей, соответсвенно, 20 ошибок).\n",
    "\n",
    "Также она не подойдет для задач сегментации и детектирования: если требуется не только определить наличие объекта на изображении, но и найти место, где он находится, то весьма желательно учитывать разницу в координатах.\n",
    "\n",
    "Для решения этой проблемы вводятся метрики \"точность\" и \"полнота\""
   ]
  },
  {
   "cell_type": "markdown",
   "id": "f71d1554",
   "metadata": {},
   "source": [
    "## Precision, Recall"
   ]
  },
  {
   "cell_type": "markdown",
   "id": "ce6092e2",
   "metadata": {},
   "source": [
    "Для оценки качества работы алгоритма на каждом из классов по отдельности введем метрики **precision (точность)** и **recall (полнота)**.\n",
    "\n",
    "\n",
    "$\\large precision = \\frac{TP}{TP + FP}$\n",
    "\n",
    "\n",
    "$\\large recall = \\frac{TP}{TP + FN}$\n",
    "\n",
    "Precision можно интерпретировать как долю объектов, названных классификатором положительными и при этом действительно являющимися положительными, а recall показывает, какую долю объектов положительного класса из всех объектов положительного класса нашел алгоритм.\n",
    "\n",
    "Именно введение precision не позволяет нам записывать все объекты в один класс, так как в этом случае мы получаем рост уровня False Positive. Recall демонстрирует способность алгоритма обнаруживать данный класс вообще, а precision — способность отличать этот класс от других классов."
   ]
  },
  {
   "cell_type": "markdown",
   "id": "ce1e7307",
   "metadata": {},
   "source": [
    "<img src =\"https://upload.wikimedia.org/wikipedia/commons/2/26/Precisionrecall.svg\" width=\"600\">\n",
    "\n",
    "Для численного описания этих метрик необходимо ввести важную концепцию для описания в терминах ошибок классификации — **confusion matrix** (матрица ошибок).\n",
    "Допустим, что у нас есть два класса и алгоритм, предсказывающий принадлежность каждого объекта одному из классов, тогда матрица ошибок классификации будет выглядеть следующим образом:\n"
   ]
  },
  {
   "cell_type": "markdown",
   "id": "1dc3eded",
   "metadata": {},
   "source": [
    "|      |$\\large y=1$  |$\\large y=0$   |\n",
    "| ---  |---  |---   |\n",
    "| $\\large \\widehat{y}=1$    |$\\large True Positive (TP) $   | $\\large False Positive (FP)   $  |\n",
    "| $\\large \\widehat{y}=0$    |$\\large False Negative (FN)$   | $\\large True Negative (TN)     $ |"
   ]
  },
  {
   "cell_type": "markdown",
   "id": "e1c7dacf",
   "metadata": {},
   "source": [
    "Пример классификатора, способного проводить различие между всего лишь двумя классами, \"пятерка\" и \"не пятерка\" из набора рукописных цифр MNIST. Ниэе приведён код для матрицы ошибок:"
   ]
  },
  {
   "cell_type": "code",
   "execution_count": null,
   "id": "a165415d",
   "metadata": {},
   "outputs": [
    {
     "name": "stderr",
     "output_type": "stream",
     "text": [
      "C:\\ProgramData\\anaconda3\\lib\\site-packages\\sklearn\\datasets\\_openml.py:1002: FutureWarning: The default value of `parser` will change from `'liac-arff'` to `'auto'` in 1.4. You can set `parser='auto'` to silence this warning. Therefore, an `ImportError` will be raised from 1.4 if the dataset is dense and pandas is not installed. Note that the pandas parser may return different data types. See the Notes Section in fetch_openml's API doc for details.\n",
      "  warn(\n"
     ]
    }
   ],
   "source": [
    "import numpy as np\n",
    "from sklearn.datasets import fetch_openml\n",
    "from sklearn.model_selection import cross_val_predict\n",
    "from sklearn.metrics import confusion_matrix\n",
    "from sklearn.linear_model import SGDClassifier\n",
    "\n",
    "mnist = fetch_openml('mnist_784', version=1)\n",
    "X, y = mnist[\"data\"], mnist[\"target\"]\n",
    "y = y.astype(np.uint8)\n",
    "\n",
    "X_train, X_test, y_train, y_test = X[:60000], X[60000:], y[:60000], y[60000:]\n",
    "\n",
    "y_train_5 = (y_train == 5) # True для всех пятерок, False для в сех остальных цифр. Задача опознать пятерки\n",
    "y_test_5 = (y_test == 5)\n",
    "\n",
    "sgd_clf = SGDClassifier(random_state=42) # классификатор на основе метода стохастического градиентного спуска (англ. Stochastic Gradient Descent SGD)\n",
    "\n",
    "sgd_clf.fit(X_train, y_train_5) # обучаем классификатор распозновать пятерки на целом обучающем наборе\n",
    "# Для расчета матрицы ошибок сначала понадобится иметь набор прогнозов, чтобы их можно было сравнивать с фактическими целями\n",
    "\n",
    "y_train_pred = cross_val_predict(sgd_clf, X_train, y_train_5, cv=3)\n",
    "\n",
    "print(confusion_matrix(y_train_5, y_train_pred))"
   ]
  },
  {
   "cell_type": "markdown",
   "id": "fd73914e",
   "metadata": {},
   "source": [
    "**Именно** введение **precision** не позволяет нам записывать все объекты в один класс, так как в этом случае мы получаем рост уровня False Positive. **Recall демонстрирует способность алгоритма обнаруживать данный класс вообще, а precision — способность отличать этот класс от других классов.**\n",
    "\n",
    "<img src =\"https://edunet.kea.su/repo/EduNet-content/L01/out/precision-recall.png\" width=\"800\" >"
   ]
  },
  {
   "cell_type": "markdown",
   "id": "9b7e6c88",
   "metadata": {},
   "source": [
    "**Accuracy**\n",
    "\n",
    "Accuracy также можно посчитать через матрицу ошибок.\n",
    "\n",
    "$\\large accuracy = \\frac{TP + TN}{TP + TN + FP + FN}$\n"
   ]
  },
  {
   "cell_type": "markdown",
   "id": "a9578b95",
   "metadata": {},
   "source": [
    "**Balanced accuracy**\n",
    "\n",
    "В случае дисбаланса классов есть специальный аналог точности – сбалансированная точность.\n",
    "\n",
    "$\\ BA = \\frac{R_1 + R_0}{2} = \\frac{1}{2} (\\frac{TP}{TP + FN} + \\frac{TN}{TN + FP})$\n",
    "\n",
    "Для сбалансированного и несбалансированного случаев она будет равна $0. 96$ и $0.33$ соответственно."
   ]
  },
  {
   "cell_type": "markdown",
   "id": "f395bae5",
   "metadata": {},
   "source": [
    "Для простоты запоминания – это среднее полноты всех классов."
   ]
  },
  {
   "cell_type": "markdown",
   "id": "8dcc133c",
   "metadata": {},
   "source": [
    "### Задание: посчитать вручную метрики для полученной матрицы  array([[53892, 687], [ 1891, 3530]])"
   ]
  },
  {
   "cell_type": "code",
   "execution_count": null,
   "id": "5cf33373",
   "metadata": {},
   "outputs": [],
   "source": []
  },
  {
   "cell_type": "markdown",
   "id": "2a985dc2",
   "metadata": {},
   "source": [
    "## F-мера"
   ]
  },
  {
   "cell_type": "markdown",
   "id": "8a5fe65c",
   "metadata": {},
   "source": [
    "Ошибки классификации бывают двух видов: **False Positive** и **False Negative**. Первый вид ошибок называют **ошибкой I-го рода**, второй — **ошибкой II-го рода**. Пусть студент приходит на экзамен. Если он учил и знает, то принадлежит классу с меткой 1, иначе — имеет метку 0 (знающего студента называем «положительным»). Пусть экзаменатор выполняет роль классификатора: ставит зачёт (т.е. метку 1) или отправляет на пересдачу (метку 0). Самое желаемое для студента «не учил, но сдал» соответствует ошибке 1 рода, вторая возможная ошибка «учил, но не сдал» – 2 рода.\n",
    "\n",
    "\n"
   ]
  },
  {
   "cell_type": "markdown",
   "id": "d6d9d59b",
   "metadata": {},
   "source": [
    "<img src =\"https://edunet.kea.su/repo/EduNet-content/L01/out/1_2_errors.png\" width=\"600\" >"
   ]
  },
  {
   "cell_type": "markdown",
   "id": "2644fb6e",
   "metadata": {},
   "source": [
    "Часто в реальной практике стоит задача найти **оптимальный** **баланс** между **Presicion и Recall**. Классическим примером является задача определения оттока клиентов.\n",
    "\n",
    "**F-мера** (в общем случае $\\ F_\\beta$) — среднее гармоническое precision и recall :\n",
    "\n",
    "$\\large \\ F_\\beta = (1 + \\beta^2) \\cdot \\frac{precision \\cdot recall}{(\\beta^2 \\cdot precision) + recall}$\n",
    "\n",
    "\n",
    "$\\beta$ в данном случае определяет вес точности в метрике, и при $\\beta = 1$ это среднее гармоническое (с множителем 2, чтобы в случае precision = 1 и recall = 1 иметь $\\ F_1 = 1$).\n",
    "F-мера достигает максимума при полноте и точности, равными единице, и близка к нулю, если один из аргументов близок к нулю.\n",
    "\n"
   ]
  },
  {
   "cell_type": "markdown",
   "id": "66c9d0c9",
   "metadata": {},
   "source": [
    "Сбалансированная F-мера, $β=1$:\n",
    "\n",
    "<img src =\"https://edunet.kea.su/repo/EduNet-content/L01/out/f1_balanced.png\" width=\"500\" >"
   ]
  },
  {
   "cell_type": "markdown",
   "id": "4776a928",
   "metadata": {},
   "source": [
    "При перекосе в точность ($β=1/4$):\n",
    "\n",
    "<img src =\"https://edunet.kea.su/repo/EduNet-content/L01/out/f1_unbalanced.png\" width=\"500\" >"
   ]
  },
  {
   "cell_type": "markdown",
   "id": "7741c0f9",
   "metadata": {},
   "source": [
    "Более наглядно: низкие значения точности не позволяют метрике F вырасти."
   ]
  },
  {
   "cell_type": "markdown",
   "id": "048c4732",
   "metadata": {},
   "source": [
    "<img src =\"https://edunet.kea.su/repo/EduNet-content/L01/out/f1_lines.png\" width=\"600\" >\n",
    "\n",
    "<center><em>Зависимость F1-меры от полноты при фиксированной точности. При точности 10% F1-мера не может быть больше 20%.</em></center>\n"
   ]
  },
  {
   "cell_type": "markdown",
   "id": "7bc899a2",
   "metadata": {},
   "source": [
    "В sklearn есть удобная функция **sklearn.metrics.classification_report**, возвращающая recall, precision и F-меру для каждого из классов, а также количество экземпляров каждого класса."
   ]
  },
  {
   "cell_type": "code",
   "execution_count": 25,
   "id": "cc6bf8bc",
   "metadata": {},
   "outputs": [
    {
     "name": "stdout",
     "output_type": "stream",
     "text": [
      "              precision    recall  f1-score   support\n",
      "\n",
      "     class 0       0.50      1.00      0.67         1\n",
      "     class 1       0.00      0.00      0.00         1\n",
      "     class 2       1.00      0.67      0.80         3\n",
      "\n",
      "    accuracy                           0.60         5\n",
      "   macro avg       0.50      0.56      0.49         5\n",
      "weighted avg       0.70      0.60      0.61         5\n",
      "\n"
     ]
    }
   ],
   "source": [
    "from sklearn.metrics import classification_report\n",
    "\n",
    "y_true = [0, 1, 2, 2, 2]\n",
    "y_pred = [0, 0, 2, 2, 1]\n",
    "target_names = [\"class 0\", \"class 1\", \"class 2\"]\n",
    "print(classification_report(y_true, y_pred, target_names=target_names))"
   ]
  },
  {
   "cell_type": "markdown",
   "id": "81ff1e79",
   "metadata": {},
   "source": [
    "## Задание. Посчитать отдельно метрики precision, recall, f1-score для нейронной сети из прошлого задания для набора данных MNIST"
   ]
  },
  {
   "cell_type": "code",
   "execution_count": 95,
   "id": "08aee7f2",
   "metadata": {},
   "outputs": [
    {
     "data": {
      "text/plain": [
       "<All keys matched successfully>"
      ]
     },
     "execution_count": 95,
     "metadata": {},
     "output_type": "execute_result"
    }
   ],
   "source": [
    "import torch\n",
    "from torch import nn\n",
    "\n",
    "class NeuralNetwork(nn.Module):\n",
    "    def __init__(self):\n",
    "        super().__init__()\n",
    "        self.flatten = nn.Flatten()\n",
    "        self.layers_stack = nn.Sequential(\n",
    "            nn.Linear(28 * 28, 512),\n",
    "            nn.ReLU(),\n",
    "            nn.Linear(512, 128),\n",
    "            nn.ReLU(),\n",
    "            nn.Linear(128, 10),\n",
    "        )\n",
    "\n",
    "    def forward(self, x):\n",
    "        x = self.flatten(x)\n",
    "        logits = self.layers_stack(x)\n",
    "        return logits\n",
    "\n",
    "model = NeuralNetwork()\n",
    "model.load_state_dict(torch.load(\"model_weights.pth\"))\n",
    "#print(list(model.parameters()))"
   ]
  },
  {
   "cell_type": "code",
   "execution_count": 106,
   "id": "b2ffba33",
   "metadata": {},
   "outputs": [
    {
     "name": "stdout",
     "output_type": "stream",
     "text": [
      "Using cpu device\n"
     ]
    }
   ],
   "source": [
    "import torch\n",
    "from torchvision import datasets\n",
    "from torchvision.transforms import ToTensor\n",
    "from IPython.display import clear_output\n",
    "from torch.utils.data import DataLoader\n",
    "\n",
    "train_data = datasets.MNIST(\n",
    "    root=\"./MNIST\", train=True, download=True, transform=ToTensor()\n",
    ")\n",
    "\n",
    "test_data = datasets.MNIST(\n",
    "    root=\"./MNIST\", train=False, download=True, transform=ToTensor()\n",
    ")\n",
    "\n",
    "\n",
    "train_dataloader = DataLoader(train_data, batch_size=64, shuffle=True)\n",
    "test_dataloader = DataLoader(test_data, batch_size=64, shuffle=False)\n",
    "\n",
    "device = \"cuda\" if torch.cuda.is_available() else \"cpu\"\n",
    "print(f\"Using {device} device\")\n",
    "\n",
    "imgs, labels = next(iter(test_dataloader))\n",
    "pred = model(torch.reshape(imgs, (64, 28, 28)).to(device))\n",
    "\n",
    "pred = pred.detach()\n",
    "digits = np.argmax(pred.cpu().numpy(), axis=1)\n",
    "\n",
    "y_true = digits\n",
    "y_pred = [labels[i].item() for i in range(len(labels))]\n",
    "target_names = [\"0\", \"1\", \"2\", \"3\", \"4\", \"5\", \"6\", \"7\", \"8\", \"9\"]"
   ]
  },
  {
   "cell_type": "markdown",
   "id": "659c3f5b",
   "metadata": {},
   "source": [
    "### Accuracy:"
   ]
  },
  {
   "cell_type": "code",
   "execution_count": 107,
   "id": "60f55204",
   "metadata": {},
   "outputs": [
    {
     "name": "stdout",
     "output_type": "stream",
     "text": [
      "0.90625\n",
      "58\n"
     ]
    }
   ],
   "source": [
    "## WRITE YOUR CODE HERE"
   ]
  },
  {
   "cell_type": "markdown",
   "id": "59249d53",
   "metadata": {},
   "source": [
    "### Precision:"
   ]
  },
  {
   "cell_type": "code",
   "execution_count": 108,
   "id": "5b4027fc",
   "metadata": {},
   "outputs": [
    {
     "name": "stdout",
     "output_type": "stream",
     "text": [
      "[1.         0.9        1.         0.83333333 0.9        0.85714286\n",
      " 0.8        1.         1.         0.85714286]\n"
     ]
    }
   ],
   "source": [
    "## WRITE YOUR CODE HERE"
   ]
  },
  {
   "cell_type": "markdown",
   "id": "84f71ec6",
   "metadata": {},
   "source": [
    "### Recall:"
   ]
  },
  {
   "cell_type": "code",
   "execution_count": 101,
   "id": "2e234623",
   "metadata": {},
   "outputs": [
    {
     "name": "stdout",
     "output_type": "stream",
     "text": [
      "[1.         1.         0.71428571 0.83333333 0.9        1.\n",
      " 0.66666667 1.         1.         1.        ]\n"
     ]
    }
   ],
   "source": [
    "## WRITE YOUR CODE HERE"
   ]
  },
  {
   "cell_type": "markdown",
   "id": "e99eb7a9",
   "metadata": {},
   "source": [
    "### Classification report:"
   ]
  },
  {
   "cell_type": "code",
   "execution_count": 104,
   "id": "7f65c089",
   "metadata": {},
   "outputs": [
    {
     "name": "stdout",
     "output_type": "stream",
     "text": [
      "              precision    recall  f1-score   support\n",
      "\n",
      "           0       1.00      1.00      1.00         6\n",
      "           1       0.90      1.00      0.95         9\n",
      "           2       1.00      0.71      0.83         7\n",
      "           3       0.83      0.83      0.83         6\n",
      "           4       0.90      0.90      0.90        10\n",
      "           5       0.86      1.00      0.92         6\n",
      "           6       0.80      0.67      0.73         6\n",
      "           7       1.00      1.00      1.00         7\n",
      "           8       1.00      1.00      1.00         1\n",
      "           9       0.86      1.00      0.92         6\n",
      "\n",
      "    accuracy                           0.91        64\n",
      "   macro avg       0.91      0.91      0.91        64\n",
      "weighted avg       0.91      0.91      0.90        64\n",
      "\n"
     ]
    }
   ],
   "source": [
    "## WRITE YOUR CODE HERE"
   ]
  },
  {
   "cell_type": "markdown",
   "id": "2b8608d9",
   "metadata": {},
   "source": [
    "### Многоклассовый случай"
   ]
  },
  {
   "cell_type": "code",
   "execution_count": 28,
   "id": "3d7d7dab",
   "metadata": {},
   "outputs": [
    {
     "data": {
      "image/png": "[encoded data removed]",
      "text/plain": [
       "<Figure size 1000x400 with 4 Axes>"
      ]
     },
     "metadata": {},
     "output_type": "display_data"
    },
    {
     "name": "stdout",
     "output_type": "stream",
     "text": [
      "Accuracy Balanced   Data: 0.96\n",
      "Accuracy Unbalanced Data: 0.96\n"
     ]
    }
   ],
   "source": [
    "import matplotlib.pyplot as plt\n",
    "import numpy as np\n",
    "from sklearn import metrics\n",
    "\n",
    "fig, ax = plt.subplots(1, 2, figsize=(10, 4))\n",
    "fig.tight_layout(pad=3.0)\n",
    "plt.rcParams.update({\"font.size\": 16})\n",
    "# font = {'size':'21'}\n",
    "ax[0].set_title(\"Balanced data\")\n",
    "ax[1].set_title(\"Unbalanced data\")\n",
    "\n",
    "labels = [\"Airplane\", \"Auto\", \"Bird\"]\n",
    "\n",
    "# Balanced data\n",
    "air, auto, bird = 150, 150, 150\n",
    "actual_b = np.array([0] * air + [1] * auto + [2] * bird)\n",
    "predicted_b = np.array([0] * (air - 10) + [1] * (auto + 20) + [2] * (bird - 10))\n",
    "\n",
    "# Unbalanced data\n",
    "air, auto, bird = 430, 10, 10\n",
    "actual_ub = np.array([0] * air + [1] * auto + [2] * bird)\n",
    "predicted_ub = np.array([0] * (air + 20) + [1] * (auto - 10) + [2] * (bird - 10))\n",
    "\n",
    "# Balanced data\n",
    "metrics.ConfusionMatrixDisplay(\n",
    "    confusion_matrix=metrics.confusion_matrix(## WRITE YOUR CODE HERE),\n",
    "    display_labels=labels,\n",
    ").plot(ax=ax[0])\n",
    "\n",
    "# Unbalanced data\n",
    "metrics.ConfusionMatrixDisplay(\n",
    "    confusion_matrix=metrics.confusion_matrix(## WRITE YOUR CODE HERE),\n",
    "    display_labels=labels,\n",
    ").plot(ax=ax[1])\n",
    "\n",
    "label_font = {\"size\": \"15\"}  # Adjust to fit\n",
    "ax[0].set_xlabel(\"Predicted labels\", fontdict=label_font)\n",
    "ax[0].set_ylabel(\"True labels\", fontdict=label_font)\n",
    "ax[1].set_xlabel(\"Predicted labels\", fontdict=label_font)\n",
    "ax[1].set_ylabel(\"True labels\", fontdict=label_font)\n",
    "\n",
    "plt.show()\n",
    "\n",
    "print(\n",
    "    \"Accuracy Balanced   Data:\", round(metrics.accuracy_score(## WRITE YOUR CODE HERE), 2)\n",
    ")\n",
    "print(\n",
    "    \"Accuracy Unbalanced Data:\",\n",
    "    round(metrics.accuracy_score(## WRITE YOUR CODE HERE), 2),\n",
    ")"
   ]
  },
  {
   "cell_type": "code",
   "execution_count": 29,
   "id": "4aebd92b",
   "metadata": {},
   "outputs": [
    {
     "name": "stdout",
     "output_type": "stream",
     "text": [
      "Balanced accuracy for Balanced data  : 0.96\n",
      "Balanced accuracy for Unbalanced data : 0.33\n"
     ]
    }
   ],
   "source": [
    "print(\n",
    "    \"Balanced accuracy for Balanced data  :\",\n",
    "    round(metrics.balanced_accuracy_score(## WRITE YOUR CODE HERE), 2),\n",
    ")\n",
    "print(\n",
    "    \"Balanced accuracy for Unbalanced data :\",\n",
    "    round(metrics.balanced_accuracy_score(## WRITE YOUR CODE HERE), 2),\n",
    ")"
   ]
  },
  {
   "cell_type": "markdown",
   "id": "3d1a0d39",
   "metadata": {},
   "source": [
    "**Multiclass Accuracy**\n",
    "\n",
    "\n",
    "В случае многоклассовой классификации термины TP, FP, TN, FN считаются для каждого класса:"
   ]
  },
  {
   "cell_type": "markdown",
   "id": "ab8433af",
   "metadata": {},
   "source": [
    "<img src =\"https://edunet.kea.su/repo/EduNet-content/L01/out/confmatrix.png\" width=\"600\" >\\"
   ]
  },
  {
   "cell_type": "markdown",
   "id": "00a30525",
   "metadata": {},
   "source": [
    "$\\displaystyle \\large Multiclass Accuracy = \\frac{1}{n}\\sum_{i=1}^{n} [actual_{i}==predicted_{i}]  =   \\frac{\\sum_{k=1}^{N} TP_{Ck} }{\\sum_{k=1}^{N} (TP_{Ck} + TN_{Ck} + FP_{Ck} + FN_{Ck})}$"
   ]
  },
  {
   "cell_type": "markdown",
   "id": "4eac70b2",
   "metadata": {},
   "source": [
    "## AUC-ROC\n",
    "\n",
    "ROC = receiver operating characteristic, AUC = area under the curve"
   ]
  },
  {
   "cell_type": "markdown",
   "id": "42caac50",
   "metadata": {},
   "source": [
    "Пусть решается задача бинарной классификации, и необходимо оценить важность признака $j$ для решения именно этой задачи. В этом случае можно попробовать построить классификатор, который использует лишь этот один признак $j$, и оценить его качество. Например, можно рассмотреть очень простой классификатор, который берёт значение признака $j$ на объекте, сравнивает его с порогом $t$, и если значение больше этого порога, то он относит объект к первому классу, если же меньше порога — то к другому, нулевому или минус первому, в зависимости от того, как мы его обозначили. Далее, поскольку этот классификатор зависит от порога $t$, то его качество можно измерить с помощью таких метрик, как площадь под ROC-кривой или Precision-Recall кривой, а затем по данной площади отсортировать все признаки и выбрать лучшие.\n",
    "\n",
    "Но вначале разберёмся, что такое **AUC-ROC**."
   ]
  },
  {
   "cell_type": "markdown",
   "id": "2dcec26d",
   "metadata": {},
   "source": [
    "### Построение"
   ]
  },
  {
   "cell_type": "markdown",
   "id": "8ff7f91f",
   "metadata": {},
   "source": [
    "ROC-кривой (ROC, receiver operating characteristic, кривой ошибок) традиционно называют график кривой, которая характеризует качество предсказаний бинарного классификатора на некоторой фиксированной выборке при всех значениях порога классификации. Площадь под графиком ROC-кривой AUC (area under the curve) является численной характеристикой качества классификатора. Определим, как именно строится ROC-кривая, через рассмотрение примера.\n",
    "\n",
    "Вывод некоторого бинарного классификатора представлен в табл. 1. Упорядочим строки данной таблицы по убыванию значения вывода нашего бинарного классификатора и запишем результат в табл. 2. Если наш алгоритм справился с задачей классификации, то мы увидим в последней колонке также упорядоченные по убыванию значения (или случайное распределение меток 0 и 1 в противном случае)."
   ]
  },
  {
   "cell_type": "markdown",
   "id": "8565e57e",
   "metadata": {},
   "source": [
    "<center><img src=\"https://edunet.kea.su/repo/EduNet-content/L01/out/roc_auc_data_example.png\" alt=\"alttext\" width=600/></center>"
   ]
  },
  {
   "cell_type": "markdown",
   "id": "65d51070",
   "metadata": {},
   "source": [
    "Приступим непосредственно к изображению графика ROC-кривой. Начнём с квадрата единичной площади и изобразим на нём прямоугольную координатную сетку, равномерно нанеся $m$ горизонтальных линий и $n$ вертикальных. Число горизонтальных линий $m$ соответствует количеству объектов класса $1$ из рассматриваемой выборки, а число $n$ — количеству объектов класса $0$. В нашем примере $m=3$ и $n=4$. Таким образом, квадрат единичной площади разбился на $m \\times n$ прямоугольных блоков (на $12$ штук согласно нашему примеру)."
   ]
  },
  {
   "cell_type": "markdown",
   "id": "107ceb96",
   "metadata": {},
   "source": [
    "Начиная из точки $(0, 0)$, построим ломаную линию в точку $(1, 1)$ по узлам получившейся решетки по следующему алгоритму:\n",
    "- рассмотрим последовательно все строки табл. 2\n",
    "- оценка алгоритма для объекта из текущей строки не равна оценке для объекта из следующей:\n",
    "- - если в строке содержится объект с меткой класса $1$, рисуем линию до следующего узла вертикально вверх\n",
    "- - если в строке содержится объект с меткой класса $0$, рисуем линию до следующего узла горизонтально направо\n",
    "- оценки для объектов в нескольких последующих строках совпадают:\n",
    "- - нарисовать линию из текущего узла в узел, располагающийся на $k$ углов вертикально выше и на $l$ узлов левее. $k$ и $l$ соответственно равны количеству объектов класса $1$ и $0$ среди группы повторяющихся значений оценок классификатора\n",
    "\n",
    "(всего потребуется не более $n + m$ шагов — столько же, сколько строк в нашей таблице)"
   ]
  },
  {
   "cell_type": "markdown",
   "id": "22cc0342",
   "metadata": {},
   "source": [
    "<center><img src=\"https://edunet.kea.su/repo/EduNet-content/L01/out/make_roc_curve.png\" alt=\"alttext\" width=500/></center>\n",
    "\n",
    "<center><em>Рис.1. Построение ROC-кривой.</em></center>"
   ]
  },
  {
   "cell_type": "markdown",
   "id": "8f9447dc",
   "metadata": {},
   "source": [
    "Справа на рис. 1 показана полученная для нашего примера кривая – эта изображенная на единичном квадрате ломанная линия и называется ROC-кривой.\n",
    "\n",
    "Вычислим площадь под получившийся кривой — **AUC-ROC**. В нашем примере AUC-ROC $= 9.5 / 12 ~ 0.79$, и именно это значение является искомой метрикой качества работы нашего бинарного классификатора.\n",
    "(Так как мы начали свое построение с квадрата единичной площади, то AUC-ROC может принимать значения в $[0,1]$)\n",
    "\n",
    "\n",
    "1. ROC-кривая абсолютно точного бинарного классификатора имеет вид $(0,0) \\rightarrow (1,0) \\rightarrow (1,1)$. ROC-AUC для такого идеального классификатора равен площади всего единичного квадрата.\n",
    "2. ROC-кривая для всегда ошибающегося бинарного классификатора имеет вид $(0,0) \\rightarrow (0,1) \\rightarrow (1,1)$. ROC-AUC в этом случае равен нулю.\n",
    "3. Если наш бинарный классификатор для всех объектов предскажет одно и то же значение, то его ROC-кривая будет иметь вид $(0,0) \\rightarrow (1,1)$\n"
   ]
  },
  {
   "cell_type": "markdown",
   "id": "38f18df5",
   "metadata": {},
   "source": [
    "<center><img src=\"https://edunet.kea.su/repo/EduNet-content/L01/out/various_roc_curves.png\" alt=\"alttext\" width=500/></center>\n",
    "\n",
    "<center><em>Рис. 2. ROC-кривые для наилучшего (AUC=1), константного (AUC=0.5) и наихудшего (AUC=0) алгоритма.</em></center>\n"
   ]
  },
  {
   "cell_type": "markdown",
   "id": "5d2eaba2",
   "metadata": {},
   "source": [
    "### Смысл метрики"
   ]
  },
  {
   "cell_type": "markdown",
   "id": "6c62cee4",
   "metadata": {},
   "source": [
    "Как можно заметить на рис. 3, координатная сетка, описанная в нашем алгоритме построения ROC кривой, разбила единичный квадрат на столько прямоугольников, сколько существовало пар объектов класс-$0$ — класс-$1$ в исследуемой выборке данных. Если теперь посчитать количество оказавшихся под ROC-кривой прямоугольников, то можно заметить, что оно в точности равно числу верно классифицированных алгоритмом пар объектов, то есть таких пар объектов противоположных классов, для которых алгоритм поставил большую по величине оценку для объекта класса $1$."
   ]
  },
  {
   "cell_type": "markdown",
   "id": "d2f75417",
   "metadata": {},
   "source": [
    "<center><img src=\"https://edunet.kea.su/repo/EduNet-content/L01/out/roc_auc_pairs_descripton.png\" alt=\"alttext\" width=200/></center>\n",
    "\n",
    "<center><em>Рис. 3. Каждый блок соответствует паре объектов.</em></center>"
   ]
  },
  {
   "cell_type": "markdown",
   "id": "86df56a1",
   "metadata": {},
   "source": [
    "Таким образом, **ROC-AUC равен части верно упорядоченных оценкой классификатора пар объектов противоположных классов (в которой объект класса $0$ получил оценку исследуемым классификатором ниже, чем объект класса $1$)**. Это явно записывается формулой:"
   ]
  },
  {
   "cell_type": "markdown",
   "id": "2eee084a",
   "metadata": {},
   "source": [
    "\n",
    "$$\\text{ROC-AUC} = \\frac{\\sum_{i=1}^{N} \\sum_{j=1}^{N} I[y_{i} < y_{j}]I'[a_{i} < a_{j}] } {\\sum_{i=1}^{N} \\sum_{j=1}^{N} I[y_{i} < y_{j}]} $$\n",
    "\n",
    "\n",
    "\\begin{equation*}\n",
    "I'[a_{i}< a_{j}] =\n",
    " \\begin{cases}\n",
    "   0, & \\quad a_{i} > a_{j},\n",
    "   \\\\\n",
    "   0.5, & \\quad a_{i} = a_{j},\n",
    "   \\\\\n",
    "   1, & \\quad a_{i} < a_{j}.\n",
    " \\end{cases}\n",
    "\\end{equation*}\n",
    "\n",
    "\\begin{equation*}\n",
    "I[y_{i}< y_{j}] =\n",
    " \\begin{cases}\n",
    "   0, & \\quad y_{i} \\geq y_{j},\n",
    "   \\\\\n",
    "   1, & \\quad y_{i} < y_{j}.\n",
    " \\end{cases}\n",
    "\\end{equation*}\n",
    "\n",
    "$ a_{i} $ — выходное значение классификатора на $i$-м  объекте, $ y_{i} $ — априорно верная метка класса для того же объекта, $N$ — полное число объектов."
   ]
  },
  {
   "cell_type": "markdown",
   "id": "b0b3673c",
   "metadata": {},
   "source": [
    "Данное определение можно обобщить на задачу классификации непрерывного множества объектов. Пусть мы взяли два случайных объекта разных классов: $x_i$ класса $0$ и $x_j$, принадлежащий классу $1$. Тогда метрика ROC-AUC равна вероятности того, что в такой паре объектов объект класса $1$ получил оценку выше, нежели объект класса $0$:\n",
    "\n",
    "$$\\text{ROC-AUC}(a) = P(a(x_i) < a(x_j) | y_i=0, y_j=1)$$"
   ]
  },
  {
   "cell_type": "markdown",
   "id": "74bf61dd",
   "metadata": {},
   "source": [
    "## Построение ROC-кривой для бинарного классификатора."
   ]
  },
  {
   "cell_type": "markdown",
   "id": "a9edbdc7-55c0-4f2a-91cd-c17fa91e492a",
   "metadata": {
    "tags": []
   },
   "source": [
    "Подключим необходимые библиотеки."
   ]
  },
  {
   "cell_type": "code",
   "execution_count": 142,
   "id": "b7198e65-f6ab-4224-9774-e5aeac4bc06d",
   "metadata": {},
   "outputs": [],
   "source": [
    "import numpy as np\n",
    "import pandas as pd\n",
    "import matplotlib.pyplot as plt\n",
    "import seaborn as sns\n",
    "\n",
    "from sklearn.model_selection import train_test_split"
   ]
  },
  {
   "cell_type": "markdown",
   "id": "3a2492e8-5388-4f44-8bdb-c4ea4f81a97a",
   "metadata": {},
   "source": [
    "Создадим синтетический набор данных. Сгененируем 1й класс из нормального распределения."
   ]
  },
  {
   "cell_type": "code",
   "execution_count": 143,
   "id": "e82395b4-a0d8-49fd-bbfe-f203a7194d19",
   "metadata": {},
   "outputs": [],
   "source": [
    "class1_x = np.random.normal(loc = 10, scale = 5, size = 500)\n",
    "class1_y = np.random.normal(loc = 1, scale = 5, size = 500)"
   ]
  },
  {
   "cell_type": "markdown",
   "id": "daeca2bb",
   "metadata": {},
   "source": [
    "Создадим 2й класс с дисперсией 5, размерности 500 и математическим ожиданием 1 и 5 соответственно:"
   ]
  },
  {
   "cell_type": "code",
   "execution_count": 145,
   "id": "c22c580c",
   "metadata": {},
   "outputs": [],
   "source": [
    "class2_x = ## WRITE YOUR CODE HERE\n",
    "class2_y = ## WRITE YOUR CODE HERE"
   ]
  },
  {
   "cell_type": "markdown",
   "id": "d327332b",
   "metadata": {},
   "source": [
    "Нарисуем полученные значения на плоскости."
   ]
  },
  {
   "cell_type": "code",
   "execution_count": 146,
   "id": "839eea31-bc8f-4aa7-a37f-b646f6654995",
   "metadata": {},
   "outputs": [
    {
     "data": {
      "text/plain": [
       "<Axes: >"
      ]
     },
     "execution_count": 146,
     "metadata": {},
     "output_type": "execute_result"
    },
    {
     "data": {
      "image/png": "[encoded data removed]",
      "text/plain": [
       "<Figure size 500x500 with 1 Axes>"
      ]
     },
     "metadata": {},
     "output_type": "display_data"
    }
   ],
   "source": [
    "plt.figure(figsize=(5, 5))\n",
    "sns.scatterplot(x = class1_x, y = class1_y)\n",
    "sns.scatterplot(x = class2_x, y = class2_y)"
   ]
  },
  {
   "cell_type": "markdown",
   "id": "8a2b7b0a-e14f-4fb6-822b-4dc399f0ba8f",
   "metadata": {},
   "source": [
    "Переведём оба класса в многомерные массивы (dataframe)."
   ]
  },
  {
   "cell_type": "code",
   "execution_count": 147,
   "id": "77ccad7d-2644-4818-a220-dab73cca3dee",
   "metadata": {},
   "outputs": [],
   "source": [
    "df_class1 = ## WRITE YOUR CODE HERE\n",
    "df_class1['x'] = class1_x\n",
    "df_class1['y'] = class1_y\n",
    "df_class1['class'] = 0"
   ]
  },
  {
   "cell_type": "code",
   "execution_count": 148,
   "id": "c38731a6-e1fd-40c0-9aee-142974c2b00b",
   "metadata": {},
   "outputs": [],
   "source": [
    "df_class2 = ## WRITE YOUR CODE HERE\n",
    "df_class2['x'] = ## WRITE YOUR CODE HERE\n",
    "df_class2['y'] = ## WRITE YOUR CODE HERE\n",
    "df_class2['class'] = ## WRITE YOUR CODE HERE"
   ]
  },
  {
   "cell_type": "markdown",
   "id": "a2813b64",
   "metadata": {},
   "source": [
    "И соединим их в один большой массив данных."
   ]
  },
  {
   "cell_type": "code",
   "execution_count": 149,
   "id": "43d7f5f3-e571-4559-ac13-00ae222d6613",
   "metadata": {},
   "outputs": [],
   "source": [
    "df = ## WRITE YOUR CODE HERE"
   ]
  },
  {
   "cell_type": "markdown",
   "id": "52045bf5",
   "metadata": {},
   "source": [
    "Разделим переменные на независимые и зависимые."
   ]
  },
  {
   "cell_type": "code",
   "execution_count": 150,
   "id": "e2c0d5eb-c9a2-4fc5-84a3-720dd7a3d53a",
   "metadata": {},
   "outputs": [],
   "source": [
    "X = df.drop(columns = ['class'])\n",
    "y = df['class']"
   ]
  },
  {
   "cell_type": "markdown",
   "id": "57b6f706",
   "metadata": {},
   "source": [
    "Разделим данные на тренировочные и тестовые в соотношении 1 к 3."
   ]
  },
  {
   "cell_type": "code",
   "execution_count": 151,
   "id": "231c70c7",
   "metadata": {},
   "outputs": [],
   "source": [
    "X_train, X_test, y_train, y_test = ## WRITE YOUR CODE HERE"
   ]
  },
  {
   "cell_type": "markdown",
   "id": "fce30bb6-9858-43f2-8d21-dfc000b9c877",
   "metadata": {},
   "source": [
    "Выберем простой наивный байесовский классификатор ([статья в Википедии](https://ru.wikipedia.org/wiki/Наивный_байесовский_классификатор), [код реализации применения алгоритма для отслеживания спама](https://github.com/makispl/SMS-Spam-Filter-Naive-Bayes/blob/master/SMS_Spam_Filtering_Naive_Bayes.ipynb))."
   ]
  },
  {
   "cell_type": "code",
   "execution_count": 152,
   "id": "90a8f69e-35e1-49ee-a555-7b83f8a1a045",
   "metadata": {},
   "outputs": [],
   "source": [
    "from sklearn.naive_bayes import GaussianNB"
   ]
  },
  {
   "cell_type": "markdown",
   "id": "4d7bc752",
   "metadata": {},
   "source": [
    "Создадим объект модели."
   ]
  },
  {
   "cell_type": "code",
   "execution_count": 154,
   "id": "2ea42abb-4be5-4029-b892-c5cb19d805fc",
   "metadata": {},
   "outputs": [],
   "source": [
    "model = ## WRITE YOUR CODE HERE"
   ]
  },
  {
   "cell_type": "markdown",
   "id": "431ef506",
   "metadata": {},
   "source": [
    "Подадим модели на вход тренировочные данные."
   ]
  },
  {
   "cell_type": "code",
   "execution_count": 1,
   "id": "108c4210-fd65-4c30-a59c-c3288fd3b89b",
   "metadata": {},
   "outputs": [],
   "source": [
    "## WRITE YOUR CODE HERE"
   ]
  },
  {
   "cell_type": "markdown",
   "id": "6d43c4bc",
   "metadata": {},
   "source": [
    "Выведем предсказания на тестовых данных."
   ]
  },
  {
   "cell_type": "code",
   "execution_count": 156,
   "id": "ce540af6-758c-4c38-9dc5-296c34d22557",
   "metadata": {},
   "outputs": [],
   "source": [
    "y_pred = ## WRITE YOUR CODE HERE"
   ]
  },
  {
   "cell_type": "markdown",
   "id": "db09e0e0",
   "metadata": {},
   "source": [
    "Выведем первые 10 выходов."
   ]
  },
  {
   "cell_type": "code",
   "execution_count": 157,
   "id": "e07898ee-4cd0-4b6d-bfff-1d98189cfb80",
   "metadata": {},
   "outputs": [
    {
     "data": {
      "text/plain": [
       "array([0, 0, 0, 1, 0, 0, 1, 1, 1, 0])"
      ]
     },
     "execution_count": 157,
     "metadata": {},
     "output_type": "execute_result"
    }
   ],
   "source": [
    "## WRITE YOUR CODE HERE"
   ]
  },
  {
   "cell_type": "markdown",
   "id": "3b8b58aa",
   "metadata": {},
   "source": [
    "Предскажем классы для тестовых данных и вернём вероятности для каждого класса:"
   ]
  },
  {
   "cell_type": "code",
   "execution_count": 158,
   "id": "b8911e59-f8f9-485b-85d3-7ac807a6352e",
   "metadata": {},
   "outputs": [],
   "source": [
    "y_proba = ## WRITE YOUR CODE HERE"
   ]
  },
  {
   "cell_type": "markdown",
   "id": "fb483e8c",
   "metadata": {},
   "source": [
    "Посмотрим на первые 10 выходных значений."
   ]
  },
  {
   "cell_type": "code",
   "execution_count": 159,
   "id": "1c2a3ce7-6c28-4e81-8040-357f90bae3f0",
   "metadata": {},
   "outputs": [
    {
     "data": {
      "text/plain": [
       "array([[0.94010383, 0.05989617],\n",
       "       [0.9780766 , 0.0219234 ],\n",
       "       [0.57076632, 0.42923368],\n",
       "       [0.0833947 , 0.9166053 ],\n",
       "       [0.69154875, 0.30845125],\n",
       "       [0.95052219, 0.04947781],\n",
       "       [0.02881159, 0.97118841],\n",
       "       [0.04232457, 0.95767543],\n",
       "       [0.33876851, 0.66123149],\n",
       "       [0.91178948, 0.08821052]])"
      ]
     },
     "execution_count": 159,
     "metadata": {},
     "output_type": "execute_result"
    }
   ],
   "source": [
    "## WRITE YOUR CODE HERE"
   ]
  },
  {
   "cell_type": "markdown",
   "id": "3f78f2ec",
   "metadata": {},
   "source": [
    "Выведем полученные значения в виде графика на экран."
   ]
  },
  {
   "cell_type": "code",
   "execution_count": 160,
   "id": "67cf2801-97f7-4cbc-aa3b-5175b9fa4b2a",
   "metadata": {},
   "outputs": [
    {
     "data": {
      "text/plain": [
       "<Axes: xlabel='x', ylabel='y'>"
      ]
     },
     "execution_count": 160,
     "metadata": {},
     "output_type": "execute_result"
    },
    {
     "data": {
      "image/png": "[encoded data removed]",
      "text/plain": [
       "<Figure size 640x480 with 1 Axes>"
      ]
     },
     "metadata": {},
     "output_type": "display_data"
    }
   ],
   "source": [
    "sns.scatterplot(x = X_test['x'], y = X_test['y'], hue = y_pred)"
   ]
  },
  {
   "cell_type": "markdown",
   "id": "9d2731c3-f871-47c6-ac38-8df5f99364c0",
   "metadata": {},
   "source": [
    "Построим ROC-кривую. Для этого сначала импортируем confusion_matrix, введём функци для посчёта её значений и явного выделения TN, FP, FN, TP. Результатом функции будут true positive rate и false positive rate."
   ]
  },
  {
   "cell_type": "code",
   "execution_count": 161,
   "id": "69c71572-5413-428a-895e-ac82c1b8d423",
   "metadata": {},
   "outputs": [],
   "source": [
    "from sklearn.metrics import confusion_matrix"
   ]
  },
  {
   "cell_type": "code",
   "execution_count": 162,
   "id": "c51aee7f-fb37-4dea-b616-b3364ac81637",
   "metadata": {},
   "outputs": [],
   "source": [
    "def calculate_tpr_fpr(y_real, y_pred):\n",
    "    '''\n",
    "    Calculates the True Positive Rate (tpr) and the True Negative Rate (fpr) based on real and predicted observations\n",
    "    \n",
    "    Args:\n",
    "        y_real: The list or series with the real classes\n",
    "        y_pred: The list or series with the predicted classes\n",
    "        \n",
    "    Returns:\n",
    "        tpr: The True Positive Rate of the classifier\n",
    "        fpr: The False Positive Rate of the classifier\n",
    "    '''\n",
    "    \n",
    "    # Посчитать confusion matrix и явно выделить значения\n",
    "    cm = ## WRITE YOUR CODE HERE\n",
    "    TN = ## WRITE YOUR CODE HERE\n",
    "    FP = ## WRITE YOUR CODE HERE\n",
    "    FN = ## WRITE YOUR CODE HERE\n",
    "    TP = ## WRITE YOUR CODE HERE\n",
    "    \n",
    "    # Посчитать tpr (sensitivity - true positive rate) и fpr (1-specificity - false positive rate)\n",
    "    tpr =  ## WRITE YOUR CODE HERE\n",
    "    fpr = ## WRITE YOUR CODE HERE\n",
    "    \n",
    "    return ## WRITE YOUR CODE HERE"
   ]
  },
  {
   "cell_type": "markdown",
   "id": "4c863b1e",
   "metadata": {},
   "source": [
    "Построим функцию для выделения координат точек ROC-кривой."
   ]
  },
  {
   "cell_type": "code",
   "execution_count": 163,
   "id": "89c7c604-3bb2-4220-99fd-86c7cdc8c192",
   "metadata": {},
   "outputs": [],
   "source": [
    "def get_n_roc_coordinates(y_real, y_proba, resolution = 50):\n",
    "    '''\n",
    "    Calculates \"n\" ROC Curve coordinates (tpr and fpr) by manipulating the threshold used to predict the class.\n",
    "    \n",
    "    Args:\n",
    "        y_real: The list or series with the real classes.\n",
    "        y_proba: The array with the probabilities for each class, obtained by using the `.predict_proba()` method.\n",
    "        resolution: Defines how many divisions the threshold will have, and how many coordinates will be calculated (default = 50).\n",
    "        \n",
    "    Returns:\n",
    "        tpr_list: The list of TPRs representing each threshold.\n",
    "        fpr_list: The list of FPRs representing each threshold.\n",
    "    '''\n",
    "    tpr_list = [0]\n",
    "    fpr_list = [0]\n",
    "    for i in range(resolution):\n",
    "        threshold = i/resolution\n",
    "        y_pred = y_proba[:, 1] > threshold\n",
    "        tpr, fpr = ## WRITE YOUR CODE HERE\n",
    "        tpr_list.append(tpr)\n",
    "        fpr_list.append(fpr)\n",
    "    return tpr_list, fpr_list"
   ]
  },
  {
   "cell_type": "markdown",
   "id": "fb0cc21d",
   "metadata": {},
   "source": [
    "Создадим отдельно функцию для непосредственного вывода графика на экран."
   ]
  },
  {
   "cell_type": "code",
   "execution_count": 164,
   "id": "3ce494a0-f4a6-4482-9d64-de2c68950f94",
   "metadata": {},
   "outputs": [],
   "source": [
    "def plot_roc_curve(tpr, fpr, scatter = True):\n",
    "    '''\n",
    "    Plots the ROC Curve by using the list of coordinates (tpr and fpr).\n",
    "    \n",
    "    Args:\n",
    "        tpr: The list of TPRs representing each coordinate.\n",
    "        fpr: The list of FPRs representing each coordinate.\n",
    "        scatter: When True, the points used on the calculation will be plotted with the line (default = True).\n",
    "    '''\n",
    "    plt.figure(figsize = (5, 5))\n",
    "    if scatter:\n",
    "        sns.scatterplot(x = fpr, y = tpr)\n",
    "    sns.lineplot(x = fpr, y = tpr)\n",
    "    sns.lineplot(x = [0, 1], y = [0, 1], color = 'green')\n",
    "    plt.xlim(-0.05, 1.05)\n",
    "    plt.ylim(-0.05, 1.05)\n",
    "    plt.xlabel(\"False Positive Rate\")\n",
    "    plt.ylabel(\"True Positive Rate\")"
   ]
  },
  {
   "cell_type": "markdown",
   "id": "87092d02",
   "metadata": {},
   "source": [
    "Теперь получите ROC-кривую для 10 точек. "
   ]
  },
  {
   "cell_type": "code",
   "execution_count": 165,
   "id": "e6d3c277-c51d-45d9-a222-b1b450d8ad67",
   "metadata": {},
   "outputs": [
    {
     "data": {
      "image/png": "[encoded data removed]",
      "text/plain": [
       "<Figure size 500x500 with 1 Axes>"
      ]
     },
     "metadata": {},
     "output_type": "display_data"
    }
   ],
   "source": [
    "tpr, fpr = ## WRITE YOUR CODE HERE\n",
    "\n",
    "plot_roc_curve(tpr, fpr)"
   ]
  },
  {
   "cell_type": "markdown",
   "id": "ff704985-3ff6-43d4-9065-eb82e11e7fd6",
   "metadata": {},
   "source": [
    "Построение ROC-кривой с использованием библиотеки Sklearn"
   ]
  },
  {
   "cell_type": "code",
   "execution_count": 166,
   "id": "3fa065c0-1b4b-4c63-91d8-814b5188adcd",
   "metadata": {},
   "outputs": [],
   "source": [
    "from sklearn.metrics import roc_curve\n",
    "from sklearn.metrics import RocCurveDisplay"
   ]
  },
  {
   "cell_type": "code",
   "execution_count": 167,
   "id": "1a935fcc-7575-44bd-bf1a-b73c7b8a5236",
   "metadata": {},
   "outputs": [],
   "source": [
    "def plot_sklearn_roc_curve(y_real, y_pred):\n",
    "    '''\n",
    "    Plots the ROC Curve with the sklearn methods by using the real observations and their predictions.\n",
    "    \n",
    "    Args:\n",
    "        y_real: The list or series with the real classes\n",
    "        y_pred: The list or series with the predicted classes\n",
    "    '''\n",
    "    fpr, tpr, _ = roc_curve(y_real, y_pred)\n",
    "    roc_display = RocCurveDisplay(fpr=fpr, tpr=tpr).plot()\n",
    "    roc_display.figure_.set_size_inches(5,5)"
   ]
  },
  {
   "cell_type": "code",
   "execution_count": 175,
   "id": "66093c09-56b5-41e8-babb-db1047cfe301",
   "metadata": {},
   "outputs": [
    {
     "name": "stderr",
     "output_type": "stream",
     "text": [
      "No artists with labels found to put in legend.  Note that artists whose label start with an underscore are ignored when legend() is called with no argument.\n"
     ]
    },
    {
     "data": {
      "image/png": "[encoded data removed]",
      "text/plain": [
       "<Figure size 500x500 with 1 Axes>"
      ]
     },
     "metadata": {},
     "output_type": "display_data"
    }
   ],
   "source": [
    "# Plots the ROC curve using the sklearn methods\n",
    "plot_sklearn_roc_curve(y_test, y_proba[:, 1])"
   ]
  },
  {
   "cell_type": "markdown",
   "id": "f2cfe957-c8eb-4553-ab41-8846c889a2c4",
   "metadata": {},
   "source": [
    "Выведем все метрики для данной модели."
   ]
  },
  {
   "cell_type": "code",
   "execution_count": 179,
   "id": "7021a007-44b7-4981-9440-6c25c52caca7",
   "metadata": {},
   "outputs": [],
   "source": [
    "from sklearn.metrics import accuracy_score\n",
    "from sklearn.metrics import roc_auc_score\n",
    "from sklearn.metrics import precision_score\n",
    "from sklearn.metrics import recall_score"
   ]
  },
  {
   "cell_type": "code",
   "execution_count": 180,
   "id": "a82760b5-a24d-45b2-a9be-8e4c2346c39d",
   "metadata": {},
   "outputs": [],
   "source": [
    "def evaluate_classifier(y_real, y_pred):\n",
    "    '''\n",
    "    Prints the accuracy, precision, recall and roc auc scores for the classifier.\n",
    "    \n",
    "    Args:\n",
    "        y_real: The list or series with the real classes\n",
    "        y_pred: The list or series with the predicted classes\n",
    "    '''\n",
    "    print(f\"Accuracy: {accuracy_score(## WRITE YOUR CODE HERE):.4f}\")\n",
    "    print(f\"Precision: {precision_score(y_real, y_pred):.4f}\")\n",
    "    print(f\"Recall: {recall_score(y_real, y_pred):.4f}\")\n",
    "    print(f\"ROC AUC: {roc_auc_score(y_real, y_pred):.4f}\")"
   ]
  },
  {
   "cell_type": "code",
   "execution_count": 181,
   "id": "42c1ae80-dba1-4246-9c25-25fce767fa82",
   "metadata": {},
   "outputs": [
    {
     "name": "stdout",
     "output_type": "stream",
     "text": [
      "Accuracy: 0.8200\n",
      "Precision: 0.8190\n",
      "Recall: 0.7983\n",
      "ROC AUC: 0.8190\n"
     ]
    }
   ],
   "source": [
    "evaluate_classifier(## WRITE YOUR CODE HERE)"
   ]
  },
  {
   "cell_type": "markdown",
   "id": "e313a1a3",
   "metadata": {},
   "source": [
    "## Построение ROC-кривой для многоклассового случая."
   ]
  },
  {
   "cell_type": "markdown",
   "id": "f2a4b048",
   "metadata": {},
   "source": [
    "Загружаем необходимые библиотеки."
   ]
  },
  {
   "cell_type": "code",
   "execution_count": 182,
   "id": "d2dedd4e",
   "metadata": {},
   "outputs": [],
   "source": [
    "import matplotlib.pyplot as plt\n",
    "from sklearn import svm, datasets\n",
    "from sklearn.model_selection import train_test_split\n",
    "from sklearn.preprocessing import label_binarize\n",
    "from sklearn.metrics import roc_curve, auc\n",
    "from sklearn.multiclass import OneVsRestClassifier\n",
    "from itertools import cycle"
   ]
  },
  {
   "cell_type": "markdown",
   "id": "65ab1824",
   "metadata": {},
   "source": [
    "Загрузить набо данных The Iris Dataset, выделить непосредственно данные и целевые метки."
   ]
  },
  {
   "cell_type": "code",
   "execution_count": 183,
   "id": "91388265",
   "metadata": {},
   "outputs": [],
   "source": [
    "iris = ## WRITE YOUR CODE HERE\n",
    "X = ## WRITE YOUR CODE HERE\n",
    "y = ## WRITE YOUR CODE HERE"
   ]
  },
  {
   "cell_type": "markdown",
   "id": "5c42eb6c",
   "metadata": {},
   "source": [
    "Перевести метки классов в трехмерный вектор принадлежности каждого класса при помощи функции label_binarize."
   ]
  },
  {
   "cell_type": "code",
   "execution_count": 184,
   "id": "2d2d6949",
   "metadata": {},
   "outputs": [],
   "source": [
    "y = ## WRITE YOUR CODE HERE\n",
    "n_classes = y.shape[1]"
   ]
  },
  {
   "cell_type": "markdown",
   "id": "ff0b6664",
   "metadata": {},
   "source": [
    "Разделить данные на тренировочную и тестовую части в равных долях."
   ]
  },
  {
   "cell_type": "code",
   "execution_count": 185,
   "id": "67487afc",
   "metadata": {},
   "outputs": [],
   "source": [
    "X_train, X_test, y_train, y_test = ## WRITE YOUR CODE HERE"
   ]
  },
  {
   "cell_type": "markdown",
   "id": "ea612480",
   "metadata": {},
   "source": [
    "Применим алгоритм One-vs-the-rest (OvR) multiclass strategy."
   ]
  },
  {
   "cell_type": "code",
   "execution_count": 186,
   "id": "7557754a",
   "metadata": {},
   "outputs": [],
   "source": [
    "classifier = OneVsRestClassifier(svm.SVC(kernel='linear', probability=True,\n",
    "                                 random_state=0))\n",
    "y_score = classifier.fit(## WRITE YOUR CODE HERE).decision_function(X_test)"
   ]
  },
  {
   "cell_type": "markdown",
   "id": "cb0735b1",
   "metadata": {},
   "source": [
    "Построим ROC-кривые для каждого класса и выведем значение площади под каждой кривой."
   ]
  },
  {
   "cell_type": "code",
   "execution_count": 2,
   "id": "e981385d",
   "metadata": {},
   "outputs": [
    {
     "ename": "NameError",
     "evalue": "name 'n_classes' is not defined",
     "output_type": "error",
     "traceback": [
      "\u001b[0;31m---------------------------------------------------------------------------\u001b[0m",
      "\u001b[0;31mNameError\u001b[0m                                 Traceback (most recent call last)",
      "Cell \u001b[0;32mIn[2], line 6\u001b[0m\n\u001b[1;32m      3\u001b[0m roc_auc \u001b[38;5;241m=\u001b[39m \u001b[38;5;28mdict\u001b[39m()\n\u001b[1;32m      4\u001b[0m lw\u001b[38;5;241m=\u001b[39m\u001b[38;5;241m2\u001b[39m\n\u001b[0;32m----> 6\u001b[0m \u001b[38;5;28;01mfor\u001b[39;00m i \u001b[38;5;129;01min\u001b[39;00m \u001b[38;5;28mrange\u001b[39m(n_classes):\n\u001b[1;32m      7\u001b[0m     fpr[i], tpr[i], _ \u001b[38;5;241m=\u001b[39m roc_curve(y_test[:, i], y_score[:, i])\n\u001b[1;32m      8\u001b[0m     roc_auc[i] \u001b[38;5;241m=\u001b[39m auc(fpr[i], tpr[i])\n",
      "\u001b[0;31mNameError\u001b[0m: name 'n_classes' is not defined"
     ]
    }
   ],
   "source": [
    "fpr = dict()\n",
    "tpr = dict()\n",
    "roc_auc = dict()\n",
    "lw=2\n",
    "\n",
    "for i in range(n_classes):\n",
    "    fpr[i], tpr[i], _ = roc_curve(y_test[:, i], y_score[:, i])\n",
    "    roc_auc[i] = auc(fpr[i], tpr[i])\n",
    "colors = cycle(['blue', 'red', 'green'])\n",
    "\n",
    "for i, color in zip(range(n_classes), colors):\n",
    "    plt.plot(fpr[i], tpr[i], color=color, lw=2,\n",
    "             label='ROC curve of class {0} (area = {1:0.2f})'\n",
    "             ''.format(i, roc_auc[i]))\n",
    "\n",
    "    plt.plot([0, 1], [0, 1], 'k--', lw=lw)\n",
    "plt.xlim([-0.05, 1.0])\n",
    "plt.ylim([0.0, 1.05])\n",
    "plt.xlabel('False Positive Rate')\n",
    "plt.ylabel('True Positive Rate')\n",
    "plt.title('Receiver operating characteristic for multi-class data')\n",
    "plt.legend(loc=\"lower right\")\n",
    "plt.show()"
   ]
  },
  {
   "cell_type": "markdown",
   "id": "5a2a5c4c",
   "metadata": {},
   "source": [
    "[Задачи от Александра Дьяконова на понимание логики ROC-AUC](https://alexanderdyakonov.wordpress.com/2015/10/09/задачки-про-auc-roc/)"
   ]
  },
  {
   "cell_type": "code",
   "execution_count": null,
   "id": "e7fa92d9",
   "metadata": {},
   "outputs": [],
   "source": []
  }
 ],
 "metadata": {
  "kernelspec": {
   "display_name": "Python 3 (ipykernel)",
   "language": "python",
   "name": "python3"
  },
  "language_info": {
   "codemirror_mode": {
    "name": "ipython",
    "version": 3
   },
   "file_extension": ".py",
   "mimetype": "text/x-python",
   "name": "python",
   "nbconvert_exporter": "python",
   "pygments_lexer": "ipython3",
   "version": "3.10.9"
  }
 },
 "nbformat": 4,
 "nbformat_minor": 5
}
