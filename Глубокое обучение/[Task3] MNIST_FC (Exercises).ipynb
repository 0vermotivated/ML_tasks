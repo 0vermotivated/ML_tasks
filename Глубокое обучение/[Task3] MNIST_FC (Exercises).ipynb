{
 "cells": [
  {
   "cell_type": "markdown",
   "metadata": {},
   "source": [
    "# Распознавание рукописных цифр при помощи полносвязной нейронной сети"
   ]
  },
  {
   "cell_type": "code",
   "execution_count": 32,
   "metadata": {
    "colab": {},
    "colab_type": "code",
    "id": "DWr6cvb9pS3J"
   },
   "outputs": [],
   "source": [
    "import torch\n",
    "import random\n",
    "import numpy as np\n",
    "\n",
    "random.seed(0)\n",
    "np.random.seed(0)\n",
    "torch.manual_seed(0)\n",
    "torch.cuda.manual_seed(0)\n",
    "torch.backends.cudnn.deterministic = True"
   ]
  },
  {
   "cell_type": "markdown",
   "metadata": {},
   "source": [
    "Загрузим набор данных MNIST:"
   ]
  },
  {
   "cell_type": "code",
   "execution_count": 33,
   "metadata": {
    "colab": {},
    "colab_type": "code",
    "id": "MqGQWTDIpS3R"
   },
   "outputs": [],
   "source": [
    "import torchvision.datasets\n",
    "MNIST_train = torchvision.datasets.MNIST('./', download=True, train=True)\n",
    "MNIST_test = torchvision.datasets.MNIST('./', download=True, train=False)"
   ]
  },
  {
   "cell_type": "markdown",
   "metadata": {},
   "source": [
    "Разделим данные на тестовые и тренировочные множества:"
   ]
  },
  {
   "cell_type": "code",
   "execution_count": 34,
   "metadata": {
    "colab": {},
    "colab_type": "code",
    "id": "vv_Lz7PYpS3U"
   },
   "outputs": [],
   "source": [
    "X_train = MNIST_train.train_data\n",
    "y_train = MNIST_train.train_labels\n",
    "X_test = MNIST_test.test_data\n",
    "y_test = MNIST_test.test_labels"
   ]
  },
  {
   "cell_type": "markdown",
   "metadata": {},
   "source": [
    "Посмотрим на тип данных:"
   ]
  },
  {
   "cell_type": "code",
   "execution_count": 35,
   "metadata": {
    "colab": {
     "base_uri": "https://localhost:8080/",
     "height": 35
    },
    "colab_type": "code",
    "id": "hMhsAedlrQF5",
    "outputId": "ae08bd21-79ff-48da-9886-48996a178110"
   },
   "outputs": [
    {
     "data": {
      "text/plain": [
       "(torch.uint8, torch.int64)"
      ]
     },
     "execution_count": 35,
     "metadata": {},
     "output_type": "execute_result"
    }
   ],
   "source": [
    "X_train.dtype, y_train.dtype"
   ]
  },
  {
   "cell_type": "markdown",
   "metadata": {},
   "source": [
    "Переведём их в тип float:"
   ]
  },
  {
   "cell_type": "code",
   "execution_count": 36,
   "metadata": {
    "colab": {},
    "colab_type": "code",
    "id": "_yTaVOrPvap6"
   },
   "outputs": [],
   "source": [
    "X_train = X_train.float()\n",
    "X_test = X_test.float()"
   ]
  },
  {
   "cell_type": "markdown",
   "metadata": {},
   "source": [
    "Узнаем размерности получившихся четырёх множеств:"
   ]
  },
  {
   "cell_type": "code",
   "execution_count": 37,
   "metadata": {
    "colab": {
     "base_uri": "https://localhost:8080/",
     "height": 35
    },
    "colab_type": "code",
    "id": "_gfupg4kpS3X",
    "outputId": "e72c3ff4-50f7-4695-d5d5-f838e7ac2667"
   },
   "outputs": [
    {
     "data": {
      "text/plain": [
       "(torch.Size([60000, 28, 28]),\n",
       " torch.Size([10000, 28, 28]),\n",
       " torch.Size([60000]),\n",
       " torch.Size([10000]))"
      ]
     },
     "execution_count": 37,
     "metadata": {},
     "output_type": "execute_result"
    }
   ],
   "source": [
    "X_train.shape, X_test.shape\n",
    "y_train.shape, y_test.shape"
   ]
  },
  {
   "cell_type": "markdown",
   "metadata": {},
   "source": [
    "Выведем на экран одно из изображений тренировочного множества:"
   ]
  },
  {
   "cell_type": "code",
   "execution_count": 38,
   "metadata": {
    "colab": {
     "base_uri": "https://localhost:8080/",
     "height": 365
    },
    "colab_type": "code",
    "id": "Z1tFXMwJpS3e",
    "outputId": "e7c2778b-d6f5-4718-ea28-fc8544f0416c"
   },
   "outputs": [
    {
     "data": {
      "image/png": "[encoded data removed]",
      "text/plain": [
       "<Figure size 640x480 with 1 Axes>"
      ]
     },
     "metadata": {},
     "output_type": "display_data"
    },
    {
     "name": "stdout",
     "output_type": "stream",
     "text": [
      "tensor(5)\n"
     ]
    }
   ],
   "source": [
    "import matplotlib.pyplot as plt\n",
    "plt.imshow(X_train[0, :, :])\n",
    "plt.show()\n",
    "print(y_train[0])"
   ]
  },
  {
   "cell_type": "markdown",
   "metadata": {},
   "source": [
    "Изменим размерности, чтобы выполнялось последующее матричное умножение:"
   ]
  },
  {
   "cell_type": "code",
   "execution_count": 39,
   "metadata": {
    "colab": {},
    "colab_type": "code",
    "id": "IUZgNg7zpS3j"
   },
   "outputs": [],
   "source": [
    "X_train = X_train.reshape([-1, 28 * 28])\n",
    "X_test = X_test.reshape([-1, 28 * 28])"
   ]
  },
  {
   "cell_type": "markdown",
   "metadata": {},
   "source": [
    "Напишем класс для нейронной сети, она будет состоять из входного слоя с последующей функцией активации сигмоидой и входного слоя:"
   ]
  },
  {
   "cell_type": "code",
   "execution_count": 40,
   "metadata": {
    "colab": {},
    "colab_type": "code",
    "id": "k7l65slppS3l"
   },
   "outputs": [],
   "source": [
    "class MNISTNet(torch.nn.Module):\n",
    "    def __init__(self, n_hidden_neurons):\n",
    "        super(MNISTNet, self).__init__()\n",
    "        self.fc1 = torch.nn.Linear(28 * 28, n_hidden_neurons)\n",
    "        self.ac1 = torch.nn.Sigmoid()\n",
    "        self.fc2 = torch.nn.Linear(n_hidden_neurons, 10)\n",
    "    \n",
    "    def forward(self, x):\n",
    "        x = self.fc1(x)\n",
    "        x = self.ac1(x)\n",
    "        x = self.fc2(x)\n",
    "        return x"
   ]
  },
  {
   "cell_type": "markdown",
   "metadata": {},
   "source": [
    "Создадим экземпляр класса со 100 нейронами на скрытом слое:"
   ]
  },
  {
   "cell_type": "code",
   "execution_count": null,
   "metadata": {},
   "outputs": [],
   "source": [
    "mnist_net = MNISTNet(100)"
   ]
  },
  {
   "cell_type": "markdown",
   "metadata": {
    "colab": {},
    "colab_type": "code",
    "id": "iUHy-780po9d"
   },
   "source": [
    "Определим функцию потерь через кросс-энтропию, а в качестве оптимизатора возьмём Adam с шагом обучения 0,001."
   ]
  },
  {
   "cell_type": "code",
   "execution_count": 41,
   "metadata": {
    "colab": {},
    "colab_type": "code",
    "id": "00_2j2igpS3o"
   },
   "outputs": [],
   "source": [
    "loss = torch.nn.CrossEntropyLoss()\n",
    "optimizer = torch.optim.Adam(mnist_net.parameters(), lr=1.0e-3)"
   ]
  },
  {
   "cell_type": "markdown",
   "metadata": {},
   "source": [
    "Обучим нашу нейронную сеть:"
   ]
  },
  {
   "cell_type": "code",
   "execution_count": 42,
   "metadata": {
    "colab": {},
    "colab_type": "code",
    "id": "wZtqiGvfpS3r"
   },
   "outputs": [
    {
     "name": "stdout",
     "output_type": "stream",
     "text": [
      "tensor(0.9127)\n",
      "tensor(0.9186)\n",
      "tensor(0.9204)\n",
      "tensor(0.9214)\n",
      "tensor(0.9232)\n",
      "tensor(0.9250)\n",
      "tensor(0.9279)\n",
      "tensor(0.9301)\n",
      "tensor(0.9241)\n",
      "tensor(0.9303)\n",
      "tensor(0.9330)\n",
      "tensor(0.9307)\n",
      "tensor(0.9317)\n",
      "tensor(0.9379)\n",
      "tensor(0.9360)\n",
      "tensor(0.9390)\n",
      "tensor(0.9414)\n",
      "tensor(0.9416)\n",
      "tensor(0.9405)\n",
      "tensor(0.9365)\n",
      "tensor(0.9375)\n",
      "tensor(0.9422)\n",
      "tensor(0.9442)\n",
      "tensor(0.9441)\n",
      "tensor(0.9376)\n",
      "tensor(0.9395)\n",
      "tensor(0.9411)\n",
      "tensor(0.9384)\n",
      "tensor(0.9414)\n",
      "tensor(0.9422)\n",
      "tensor(0.9423)\n",
      "tensor(0.9461)\n",
      "tensor(0.9446)\n",
      "tensor(0.9440)\n",
      "tensor(0.9467)\n",
      "tensor(0.9482)\n",
      "tensor(0.9452)\n",
      "tensor(0.9476)\n",
      "tensor(0.9468)\n",
      "tensor(0.9449)\n",
      "tensor(0.9518)\n",
      "tensor(0.9505)\n",
      "tensor(0.9453)\n",
      "tensor(0.9480)\n",
      "tensor(0.9463)\n",
      "tensor(0.9464)\n",
      "tensor(0.9469)\n",
      "tensor(0.9444)\n",
      "tensor(0.9471)\n",
      "tensor(0.9495)\n",
      "tensor(0.9476)\n",
      "tensor(0.9495)\n",
      "tensor(0.9498)\n",
      "tensor(0.9519)\n",
      "tensor(0.9518)\n",
      "tensor(0.9493)\n",
      "tensor(0.9511)\n",
      "tensor(0.9508)\n",
      "tensor(0.9535)\n",
      "tensor(0.9503)\n",
      "tensor(0.9507)\n",
      "tensor(0.9489)\n",
      "tensor(0.9518)\n",
      "tensor(0.9525)\n",
      "tensor(0.9552)\n",
      "tensor(0.9541)\n",
      "tensor(0.9504)\n",
      "tensor(0.9528)\n",
      "tensor(0.9527)\n",
      "tensor(0.9532)\n",
      "tensor(0.9492)\n",
      "tensor(0.9487)\n",
      "tensor(0.9506)\n",
      "tensor(0.9529)\n",
      "tensor(0.9464)\n",
      "tensor(0.9522)\n",
      "tensor(0.9548)\n",
      "tensor(0.9501)\n",
      "tensor(0.9561)\n",
      "tensor(0.9539)\n",
      "tensor(0.9546)\n",
      "tensor(0.9546)\n",
      "tensor(0.9542)\n",
      "tensor(0.9564)\n",
      "tensor(0.9514)\n",
      "tensor(0.9560)\n",
      "tensor(0.9553)\n",
      "tensor(0.9576)\n",
      "tensor(0.9557)\n",
      "tensor(0.9524)\n",
      "tensor(0.9554)\n",
      "tensor(0.9587)\n",
      "tensor(0.9527)\n",
      "tensor(0.9523)\n",
      "tensor(0.9567)\n",
      "tensor(0.9574)\n",
      "tensor(0.9579)\n",
      "tensor(0.9536)\n",
      "tensor(0.9540)\n",
      "tensor(0.9582)\n"
     ]
    }
   ],
   "source": [
    "batch_size = 100\n",
    "\n",
    "test_accuracy_history = []\n",
    "test_loss_history = []\n",
    "\n",
    "for epoch in range(100):\n",
    "    order = np.random.permutation(len(X_train))\n",
    "    \n",
    "    for start_index in range(0, len(X_train), batch_size):\n",
    "        optimizer.zero_grad()\n",
    "        \n",
    "        batch_indexes = order[start_index:start_index+batch_size]\n",
    "        \n",
    "        X_batch = X_train[batch_indexes] \n",
    "        y_batch = y_train[batch_indexes] \n",
    "        \n",
    "        preds = mnist_net.forward(X_batch)\n",
    "        \n",
    "        loss_value = loss(preds, y_batch)\n",
    "        loss_value.backward()\n",
    "        \n",
    "        optimizer.step()\n",
    "\n",
    "    test_preds = mnist_net.forward(X_test)\n",
    "    test_loss_history.append(loss(test_preds, y_test))\n",
    "    \n",
    "    accuracy = (test_preds.argmax(dim=1) == y_test).float().mean()\n",
    "    test_accuracy_history.append(accuracy)\n",
    "    print(accuracy)"
   ]
  },
  {
   "cell_type": "markdown",
   "metadata": {},
   "source": [
    "Выведем на экран значения точности и потерь:"
   ]
  },
  {
   "cell_type": "code",
   "execution_count": 43,
   "metadata": {
    "colab": {},
    "colab_type": "code",
    "id": "kLnumX3SpS3u"
   },
   "outputs": [
    {
     "data": {
      "image/png": "[encoded data removed]",
      "text/plain": [
       "<Figure size 640x480 with 1 Axes>"
      ]
     },
     "metadata": {},
     "output_type": "display_data"
    }
   ],
   "source": [
    "with ##WRITE YOUR CODE HERE:\n",
    "    plt.plot(test_accuracy_history)\n",
    "    plt.plot(test_loss_history)"
   ]
  },
  {
   "cell_type": "code",
   "execution_count": null,
   "metadata": {
    "colab": {},
    "colab_type": "code",
    "id": "-nu1318JpS3y"
   },
   "outputs": [],
   "source": []
  }
 ],
 "metadata": {
  "accelerator": "GPU",
  "colab": {
   "collapsed_sections": [],
   "name": "Lesson 5 Digits Recognition Video.ipynb",
   "provenance": [],
   "version": "0.3.2"
  },
  "kernelspec": {
   "display_name": "Python 3 (ipykernel)",
   "language": "python",
   "name": "python3"
  },
  "language_info": {
   "codemirror_mode": {
    "name": "ipython",
    "version": 3
   },
   "file_extension": ".py",
   "mimetype": "text/x-python",
   "name": "python",
   "nbconvert_exporter": "python",
   "pygments_lexer": "ipython3",
   "version": "3.11.3"
  }
 },
 "nbformat": 4,
 "nbformat_minor": 1
}
