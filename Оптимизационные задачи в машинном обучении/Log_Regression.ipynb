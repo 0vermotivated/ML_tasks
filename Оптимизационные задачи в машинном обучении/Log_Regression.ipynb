{
 "cells": [
  {
   "cell_type": "code",
   "execution_count": 1,
   "id": "73ec807c",
   "metadata": {
    "id": "73ec807c"
   },
   "outputs": [],
   "source": [
    "import numpy as np\n",
    "import pandas as pd\n",
    "import matplotlib.pyplot as plt"
   ]
  },
  {
   "cell_type": "code",
   "execution_count": 2,
   "id": "d35debbb",
   "metadata": {
    "colab": {
     "base_uri": "https://localhost:8080/",
     "height": 712
    },
    "id": "d35debbb",
    "outputId": "845443b2-4f66-4183-9832-393e66f756a3"
   },
   "outputs": [
    {
     "data": {
      "text/plain": [
       "array([[39],\n",
       "       [36],\n",
       "       [60],\n",
       "       [21],\n",
       "       [27],\n",
       "       [12],\n",
       "       [51],\n",
       "       [57],\n",
       "       [54],\n",
       "       [42],\n",
       "       [18],\n",
       "       [ 9],\n",
       "       [48],\n",
       "       [66],\n",
       "       [ 6],\n",
       "       [30],\n",
       "       [24],\n",
       "       [33],\n",
       "       [15],\n",
       "       [21]])"
      ]
     },
     "metadata": {},
     "output_type": "display_data"
    },
    {
     "data": {
      "text/plain": [
       "array([[1],\n",
       "       [0],\n",
       "       [1],\n",
       "       [1],\n",
       "       [1],\n",
       "       [0],\n",
       "       [1],\n",
       "       [1],\n",
       "       [1],\n",
       "       [0],\n",
       "       [0],\n",
       "       [0],\n",
       "       [1],\n",
       "       [1],\n",
       "       [0],\n",
       "       [0],\n",
       "       [0],\n",
       "       [1],\n",
       "       [0],\n",
       "       [0]])"
      ]
     },
     "metadata": {},
     "output_type": "display_data"
    }
   ],
   "source": [
    "x = np.array([39, 36, 60, 21, 27, 12, 51, 57, 54, 42, 18, 9, 48, 66, 6, 30, 24, 33, 15, 21]).reshape(20, 1)\n",
    "Y = np.array([1, 0, 1, 1, 1, 0, 1, 1, 1, 0, 0, 0, 1, 1, 0, 0, 0, 1, 0, 0]).reshape(20, 1)\n",
    "display(x, Y)\n"
   ]
  },
  {
   "cell_type": "markdown",
   "id": "5e4d302b",
   "metadata": {
    "id": "5e4d302b"
   },
   "source": [
    "Реализовать класс модели логистической регрессии с использованием:\n",
    "а) максимизации логарифмического правдоподобия методом градиентного подъема\n",
    "б) минимизации функции потерь (кросс-энтропии) методом градиентного спуска\n",
    "\n",
    "Сравнить результаты (время исполнения и достигнутые значения accuracy и f1) в случаях а и б при одном и том же числе шагов и скорости обучения.\n",
    "\n"
   ]
  },
  {
   "cell_type": "code",
   "execution_count": 3,
   "id": "11276174",
   "metadata": {
    "id": "11276174"
   },
   "outputs": [],
   "source": [
    "#Реализуем цикл градиентного спуска\n",
    "class LogisticRegressionGD(object):\n",
    "    def __init__(self):\n",
    "        self.a = None\n",
    "    def sigmoid(self, z):\n",
    "        return 1/(1 + np.exp(-z))\n",
    "    def predict(self, x):\n",
    "        return self.sigmoid(np.matmul(x , self.a))\n",
    "    def coefs(self):\n",
    "        return self.a\n",
    "    def LogLikelihood(self, x, Y):\n",
    "        return (np.matmul(np.transpose(Y), np.log(self.predict(x) + 1e-8)) + np.matmul(np.ones((Y.shape[1], Y.shape[0])) - np.transpose(Y),\n",
    "                                                                                      np.log(np.ones((Y.shape[0], Y.shape[1])) - self.predict(x) + 1e-8)))[0][0]\n",
    "    def CrossEntropy(self, x, Y):\n",
    "        preds = self.predict(x)\n",
    "        log_prob_pos = np.log(preds + 1e-8)\n",
    "        log_prob_neg = np.log(1 - preds + 1e-8)\n",
    "        cross_entropy = -np.sum(Y * log_prob_pos + (1 - Y) * log_prob_neg) / len(Y)\n",
    "        return cross_entropy\n",
    "    def accuracy(self, x, Y):\n",
    "        return (Y == self.predict(x)).mean()\n",
    "\n",
    "    def fit(self, x, Y, alpha = 0.001, epsylon = 0.001, max_steps = 5000, Rtype = \"LL\"):\n",
    "        self.a = np.ones(x.shape[1]).reshape(x.shape[1],1)\n",
    "        # print(self.a)\n",
    "        steps, errors = [], []\n",
    "        step = 0\n",
    "        for _ in range(max_steps):\n",
    "            if Rtype == \"LL\":\n",
    "                new_error = self.LogLikelihood(x, Y)\n",
    "                dT_a = np.matmul(np.transpose(x), Y - self.predict(x))\n",
    "                #display(\"old a = \",self.a, \"new_error = \", new_error, \"dT_a = \", dT_a)\n",
    "                self.a += alpha*dT_a\n",
    "                #display(\"new a = \",self.a)\n",
    "            elif Rtype == \"CE\":\n",
    "                new_error = self.CrossEntropy(x, Y)\n",
    "                dT_a = -np.matmul(np.transpose(x), Y - self.predict(x))\n",
    "                #display(\"old a = \", self.a, \"new_error = \", new_error, \"dT_a = \", dT_a)\n",
    "                self.a -= alpha* dT_a\n",
    "                #display(\"new a = \",self.a)\n",
    "            step += 1\n",
    "            steps.append(step)\n",
    "            errors.append(new_error)\n",
    "            #print(step, new_error)\n",
    "            if abs(new_error) < epsylon:\n",
    "                break\n",
    "        return steps, errors"
   ]
  },
  {
   "cell_type": "code",
   "execution_count": 4,
   "id": "c6cb8bf4",
   "metadata": {
    "id": "c6cb8bf4"
   },
   "outputs": [],
   "source": [
    "x_ = x.copy()\n",
    "import time\n",
    "\n",
    "intercept = np.ones((x.shape[0], 1))\n",
    "x_ = np.concatenate((intercept, x), axis = 1)\n"
   ]
  },
  {
   "cell_type": "code",
   "execution_count": 5,
   "id": "b39931e1",
   "metadata": {
    "colab": {
     "base_uri": "https://localhost:8080/",
     "height": 70
    },
    "id": "b39931e1",
    "outputId": "548b611b-e722-484b-e1f4-1b074ecaef17"
   },
   "outputs": [
    {
     "data": {
      "text/plain": [
       "'Время обучения: '"
      ]
     },
     "metadata": {},
     "output_type": "display_data"
    },
    {
     "data": {
      "text/plain": [
       "2.2189078330993652"
      ]
     },
     "metadata": {},
     "output_type": "display_data"
    },
    {
     "data": {
      "text/plain": [
       "'сек.'"
      ]
     },
     "metadata": {},
     "output_type": "display_data"
    }
   ],
   "source": [
    "start_time = time.time()\n",
    "regr = LogisticRegressionGD()\n",
    "steps, errors =  regr.fit(x_, Y, alpha = 0.0005, epsylon = 0.001, max_steps = 20000, Rtype = \"LL\")\n",
    "\n",
    "display('Время обучения: ', time.time() - start_time, 'сек.')"
   ]
  },
  {
   "cell_type": "code",
   "execution_count": 6,
   "id": "1cb46b41",
   "metadata": {
    "colab": {
     "base_uri": "https://localhost:8080/",
     "height": 465
    },
    "id": "1cb46b41",
    "outputId": "7bc62e2d-5754-4dcb-c1e0-e7cb0f82d4ef",
    "scrolled": true
   },
   "outputs": [
    {
     "data": {
      "text/plain": [
       "array([[-3.9945319 ],\n",
       "       [ 0.12307633]])"
      ]
     },
     "metadata": {},
     "output_type": "display_data"
    },
    {
     "data": {
      "image/png": "[encoded data removed]",
      "text/plain": [
       "<Figure size 640x480 with 1 Axes>"
      ]
     },
     "metadata": {},
     "output_type": "display_data"
    }
   ],
   "source": [
    "display(regr.coefs())\n",
    "Y_Pred = regr.predict(x_)\n",
    "plt.scatter(x, Y)\n",
    "plt.scatter(x, Y_Pred);"
   ]
  },
  {
   "cell_type": "code",
   "execution_count": 7,
   "id": "de3f3b73",
   "metadata": {
    "colab": {
     "base_uri": "https://localhost:8080/",
     "height": 447
    },
    "id": "de3f3b73",
    "outputId": "151d9c76-af48-4689-8001-1845c77f6f6c",
    "scrolled": true
   },
   "outputs": [
    {
     "data": {
      "text/plain": [
       "[<matplotlib.lines.Line2D at 0x1e36cd495b0>]"
      ]
     },
     "execution_count": 7,
     "metadata": {},
     "output_type": "execute_result"
    },
    {
     "data": {
      "image/png": "[encoded data removed]",
      "text/plain": [
       "<Figure size 640x480 with 1 Axes>"
      ]
     },
     "metadata": {},
     "output_type": "display_data"
    }
   ],
   "source": [
    "plt.plot(steps, errors)"
   ]
  },
  {
   "cell_type": "markdown",
   "id": "T1s2GgxoZKFw",
   "metadata": {
    "id": "T1s2GgxoZKFw"
   },
   "source": [
    "Метрики accuracy и f1"
   ]
  },
  {
   "cell_type": "code",
   "execution_count": 8,
   "id": "RH7wui5OYRlK",
   "metadata": {
    "colab": {
     "base_uri": "https://localhost:8080/"
    },
    "id": "RH7wui5OYRlK",
    "outputId": "8b8778f0-c940-4201-9ea6-03a50386798e"
   },
   "outputs": [
    {
     "name": "stdout",
     "output_type": "stream",
     "text": [
      "Accuracy: 0.8\n",
      "f1_score: 0.8000000000000002\n"
     ]
    }
   ],
   "source": [
    "from sklearn.metrics import accuracy_score, f1_score\n",
    "print(f\"Accuracy: {accuracy_score((regr.predict(x_) > 0.5).astype(int), Y)}\")\n",
    "print(f\"f1_score: {f1_score((regr.predict(x_) > 0.5).astype(int), Y)}\")"
   ]
  },
  {
   "cell_type": "code",
   "execution_count": 9,
   "id": "110d2ef9",
   "metadata": {
    "colab": {
     "base_uri": "https://localhost:8080/",
     "height": 70
    },
    "id": "110d2ef9",
    "outputId": "2090f0fb-214f-469b-b319-f2a14eae5b21"
   },
   "outputs": [
    {
     "data": {
      "text/plain": [
       "'Время обучения: '"
      ]
     },
     "metadata": {},
     "output_type": "display_data"
    },
    {
     "data": {
      "text/plain": [
       "1.7272794246673584"
      ]
     },
     "metadata": {},
     "output_type": "display_data"
    },
    {
     "data": {
      "text/plain": [
       "'сек.'"
      ]
     },
     "metadata": {},
     "output_type": "display_data"
    }
   ],
   "source": [
    "x_ = x.copy()\n",
    "intercept = np.ones((x.shape[0], 1))\n",
    "x_ = np.concatenate((intercept, x), axis = 1)\n",
    "start_time = time.time()\n",
    "regr = LogisticRegressionGD()\n",
    "steps, errors =  regr.fit(x_, Y, alpha = 0.0005, epsylon = 0.001, max_steps = 20000, Rtype = \"CE\")\n",
    "display('Время обучения: ', time.time() - start_time, 'сек.')"
   ]
  },
  {
   "cell_type": "code",
   "execution_count": 10,
   "id": "1yVhzW5XF2yu",
   "metadata": {
    "colab": {
     "base_uri": "https://localhost:8080/",
     "height": 465
    },
    "id": "1yVhzW5XF2yu",
    "outputId": "91de6fd9-3afd-46dc-ade3-83d38a6ccba4"
   },
   "outputs": [
    {
     "data": {
      "text/plain": [
       "array([[-3.9945319 ],\n",
       "       [ 0.12307633]])"
      ]
     },
     "metadata": {},
     "output_type": "display_data"
    },
    {
     "data": {
      "image/png": "[encoded data removed]",
      "text/plain": [
       "<Figure size 640x480 with 1 Axes>"
      ]
     },
     "metadata": {},
     "output_type": "display_data"
    }
   ],
   "source": [
    "display(regr.coefs())\n",
    "Y_Pred = regr.predict(x_)\n",
    "plt.scatter(x, Y)\n",
    "plt.scatter(x, Y_Pred);"
   ]
  },
  {
   "cell_type": "code",
   "execution_count": 11,
   "id": "28h8fZeyF22p",
   "metadata": {
    "colab": {
     "base_uri": "https://localhost:8080/",
     "height": 447
    },
    "id": "28h8fZeyF22p",
    "outputId": "5a97124a-5efc-48bf-dd05-8598ea225a29"
   },
   "outputs": [
    {
     "data": {
      "text/plain": [
       "[<matplotlib.lines.Line2D at 0x1e36cc21490>]"
      ]
     },
     "execution_count": 11,
     "metadata": {},
     "output_type": "execute_result"
    },
    {
     "data": {
      "image/png": "[encoded data removed]",
      "text/plain": [
       "<Figure size 640x480 with 1 Axes>"
      ]
     },
     "metadata": {},
     "output_type": "display_data"
    }
   ],
   "source": [
    "plt.plot(steps, errors)"
   ]
  },
  {
   "cell_type": "markdown",
   "id": "8M2bFwI6bfYq",
   "metadata": {
    "id": "8M2bFwI6bfYq"
   },
   "source": [
    "Метрики"
   ]
  },
  {
   "cell_type": "code",
   "execution_count": 12,
   "id": "TBlIrJekbCXa",
   "metadata": {
    "colab": {
     "base_uri": "https://localhost:8080/"
    },
    "id": "TBlIrJekbCXa",
    "outputId": "d4160976-63fa-4084-e8ac-ad559a5cc782"
   },
   "outputs": [
    {
     "name": "stdout",
     "output_type": "stream",
     "text": [
      "Accuracy: 0.8\n",
      "f1_score: 0.8000000000000002\n"
     ]
    }
   ],
   "source": [
    "print(f\"Accuracy: {accuracy_score((regr.predict(x_) > 0.5).astype(int), Y)}\")\n",
    "print(f\"f1_score: {f1_score((regr.predict(x_) > 0.5).astype(int), Y)}\")"
   ]
  },
  {
   "cell_type": "markdown",
   "id": "MKewwwcRcd6J",
   "metadata": {
    "id": "MKewwwcRcd6J"
   },
   "source": [
    "##вывод\n",
    "метрики одинаковые, время разнится - крос-энтропии оно больше на 0.3 секунды(1.7 против 2.0)"
   ]
  },
  {
   "cell_type": "markdown",
   "id": "f0807362",
   "metadata": {
    "id": "f0807362"
   },
   "source": [
    "Реализовать расчеты способами а и б для набора данных из файла insclass_train.csv/\n",
    "Для 151 406 договоров страхования транспортных средств известны значения ряда признаков, в том числе пол, возраст, стаж вождения и коэффициент бонус-малус водителя, тип, марка, модель, год выпуска, страна – производитель, мощность и объем двигателя, а также признак target, равный 1, если заключение договора с клиентом является рисковым, и 0 в противном случае (файл insclass_train.csv).\n",
    "\n",
    "Требуется построить модель, предсказывающую значение признака target для 22 624 договоров из тестового набора данных (файл insclass_test.csv).\n",
    "\n",
    "В обучающем наборе данных для каждого договора известны следующие поля:\n",
    "\n",
    "variable_1 - агрегированный коэффициент бонус-малус (повышающий или понижающий стоимость полиса в зависимости от аварийности в предыдущие периоды);\n",
    "\n",
    "variable_2 - индикатор расторжения договора по инициативе страхователя (клиента);\n",
    "\n",
    "variable_3 - индикатор расторжения договора по инициативе страховщика (страховой компании);\n",
    "variable_4 - идентификатор года выпуска транспортного средства;\n",
    "\n",
    "variable_5 - идентификатор страны - производителя транспортного средства;\n",
    "\n",
    "variable_6 - мощность двигателя в лошадиных силах;\n",
    "\n",
    "variable_7 - объем двигателя в куб. см;\n",
    "\n",
    "variable_8 - идентификатор стороны расположения руля (левый или правый);\n",
    "\n",
    "variable_9 - пробег транспортного средства, покрываемый гарантией производителя;\n",
    "\n",
    "variable_10 - индикатор действия гарантии на транспортное средство;\n",
    "\n",
    "variable_11 - \"мультидрайв\" - индикатор допуска к управлению транспортным средством более одного водителя;\n",
    "\n",
    "variable_12 - возраст транспортного средства (в мес.);\n",
    "\n",
    "variable_13 - возраст водителя с максимальным стажем;\n",
    "\n",
    "variable_14 - коэффициент возраст-стаж;\n",
    "\n",
    "variable_15 - коэффициент краткосрочности;\n",
    "\n",
    "variable_16 - коэффициент мощности;\n",
    "\n",
    "variable_17 - коэффициент \"мультидрайв\";\n",
    "\n",
    "variable_18 - территориальный коэффициент;\n",
    "\n",
    "variable_19 - коэффициент \"КНДР\";\n",
    "\n",
    "variable_20 - идентификатор канала продаж;\n",
    "\n",
    "variable_21 - марка транспортного средства;\n",
    "\n",
    "variable_22 - модель транспортного средства;\n",
    "\n",
    "variable_23 - индикатор отечественных транспортных средств;\n",
    "\n",
    "variable_24 - пол водителя с максимальным коэффициентом \"возраст-стаж\";\n",
    "\n",
    "variable_25 - индикатор пролонгации;\n",
    "\n",
    "variable_26 - индикатор совпадения собственника транспортного средства и водителя;\n",
    "\n",
    "variable_27 - стаж водителя с максимальным коэффициентом \"возраст-стаж\";\n",
    "\n",
    "variable_28 - тип транспортного средства;\n",
    "\n",
    "target - класс риска, равный 1, если заключение договора с клиентом является рисковым, и 0 в противном случае."
   ]
  },
  {
   "cell_type": "code",
   "execution_count": 13,
   "id": "4QCxzPJWtUwl",
   "metadata": {
    "colab": {
     "base_uri": "https://localhost:8080/",
     "height": 255
    },
    "id": "4QCxzPJWtUwl",
    "outputId": "871d8474-4709-40a9-c6c4-eb8e6b0e04d5"
   },
   "outputs": [
    {
     "data": {
      "text/html": [
       "<div>\n",
       "<style scoped>\n",
       "    .dataframe tbody tr th:only-of-type {\n",
       "        vertical-align: middle;\n",
       "    }\n",
       "\n",
       "    .dataframe tbody tr th {\n",
       "        vertical-align: top;\n",
       "    }\n",
       "\n",
       "    .dataframe thead th {\n",
       "        text-align: right;\n",
       "    }\n",
       "</style>\n",
       "<table border=\"1\" class=\"dataframe\">\n",
       "  <thead>\n",
       "    <tr style=\"text-align: right;\">\n",
       "      <th></th>\n",
       "      <th>variable_1</th>\n",
       "      <th>variable_2</th>\n",
       "      <th>variable_3</th>\n",
       "      <th>variable_4</th>\n",
       "      <th>variable_5</th>\n",
       "      <th>variable_6</th>\n",
       "      <th>variable_7</th>\n",
       "      <th>variable_8</th>\n",
       "      <th>variable_9</th>\n",
       "      <th>variable_10</th>\n",
       "      <th>...</th>\n",
       "      <th>variable_20</th>\n",
       "      <th>variable_21</th>\n",
       "      <th>variable_22</th>\n",
       "      <th>variable_23</th>\n",
       "      <th>variable_24</th>\n",
       "      <th>variable_25</th>\n",
       "      <th>variable_26</th>\n",
       "      <th>variable_27</th>\n",
       "      <th>variable_28</th>\n",
       "      <th>target</th>\n",
       "    </tr>\n",
       "  </thead>\n",
       "  <tbody>\n",
       "    <tr>\n",
       "      <th>0</th>\n",
       "      <td>w200</td>\n",
       "      <td>0</td>\n",
       "      <td>0</td>\n",
       "      <td>14</td>\n",
       "      <td>q2</td>\n",
       "      <td>98.0</td>\n",
       "      <td>NaN</td>\n",
       "      <td>0.0</td>\n",
       "      <td>NaN</td>\n",
       "      <td>0</td>\n",
       "      <td>...</td>\n",
       "      <td>C</td>\n",
       "      <td>j2</td>\n",
       "      <td>h45</td>\n",
       "      <td>0</td>\n",
       "      <td>0.0</td>\n",
       "      <td>0</td>\n",
       "      <td>1</td>\n",
       "      <td>19.323463</td>\n",
       "      <td>t1</td>\n",
       "      <td>0</td>\n",
       "    </tr>\n",
       "    <tr>\n",
       "      <th>1</th>\n",
       "      <td>w160</td>\n",
       "      <td>0</td>\n",
       "      <td>0</td>\n",
       "      <td>7</td>\n",
       "      <td>q11</td>\n",
       "      <td>106.0</td>\n",
       "      <td>NaN</td>\n",
       "      <td>0.0</td>\n",
       "      <td>NaN</td>\n",
       "      <td>0</td>\n",
       "      <td>...</td>\n",
       "      <td>C</td>\n",
       "      <td>j33</td>\n",
       "      <td>h234</td>\n",
       "      <td>0</td>\n",
       "      <td>1.0</td>\n",
       "      <td>0</td>\n",
       "      <td>1</td>\n",
       "      <td>41.177900</td>\n",
       "      <td>t1</td>\n",
       "      <td>0</td>\n",
       "    </tr>\n",
       "    <tr>\n",
       "      <th>2</th>\n",
       "      <td>w200</td>\n",
       "      <td>0</td>\n",
       "      <td>0</td>\n",
       "      <td>4</td>\n",
       "      <td>q3</td>\n",
       "      <td>123.0</td>\n",
       "      <td>NaN</td>\n",
       "      <td>0.0</td>\n",
       "      <td>NaN</td>\n",
       "      <td>0</td>\n",
       "      <td>...</td>\n",
       "      <td>B</td>\n",
       "      <td>j12</td>\n",
       "      <td>h28</td>\n",
       "      <td>0</td>\n",
       "      <td>0.0</td>\n",
       "      <td>0</td>\n",
       "      <td>1</td>\n",
       "      <td>3.614395</td>\n",
       "      <td>t1</td>\n",
       "      <td>0</td>\n",
       "    </tr>\n",
       "    <tr>\n",
       "      <th>3</th>\n",
       "      <td>w200</td>\n",
       "      <td>0</td>\n",
       "      <td>0</td>\n",
       "      <td>9</td>\n",
       "      <td>q3</td>\n",
       "      <td>102.0</td>\n",
       "      <td>NaN</td>\n",
       "      <td>0.0</td>\n",
       "      <td>NaN</td>\n",
       "      <td>0</td>\n",
       "      <td>...</td>\n",
       "      <td>C</td>\n",
       "      <td>j12</td>\n",
       "      <td>h64</td>\n",
       "      <td>0</td>\n",
       "      <td>1.0</td>\n",
       "      <td>0</td>\n",
       "      <td>0</td>\n",
       "      <td>49.041674</td>\n",
       "      <td>t1</td>\n",
       "      <td>0</td>\n",
       "    </tr>\n",
       "    <tr>\n",
       "      <th>4</th>\n",
       "      <td>w200</td>\n",
       "      <td>0</td>\n",
       "      <td>0</td>\n",
       "      <td>18</td>\n",
       "      <td>q20</td>\n",
       "      <td>117.0</td>\n",
       "      <td>NaN</td>\n",
       "      <td>0.0</td>\n",
       "      <td>NaN</td>\n",
       "      <td>0</td>\n",
       "      <td>...</td>\n",
       "      <td>C</td>\n",
       "      <td>j111</td>\n",
       "      <td>h991</td>\n",
       "      <td>0</td>\n",
       "      <td>1.0</td>\n",
       "      <td>0</td>\n",
       "      <td>0</td>\n",
       "      <td>17.909612</td>\n",
       "      <td>t1</td>\n",
       "      <td>0</td>\n",
       "    </tr>\n",
       "  </tbody>\n",
       "</table>\n",
       "<p>5 rows × 29 columns</p>\n",
       "</div>"
      ],
      "text/plain": [
       "  variable_1  variable_2  variable_3  variable_4 variable_5  variable_6  \\\n",
       "0       w200           0           0          14         q2        98.0   \n",
       "1       w160           0           0           7        q11       106.0   \n",
       "2       w200           0           0           4         q3       123.0   \n",
       "3       w200           0           0           9         q3       102.0   \n",
       "4       w200           0           0          18        q20       117.0   \n",
       "\n",
       "   variable_7  variable_8  variable_9  variable_10  ...  variable_20  \\\n",
       "0         NaN         0.0         NaN            0  ...            C   \n",
       "1         NaN         0.0         NaN            0  ...            C   \n",
       "2         NaN         0.0         NaN            0  ...            B   \n",
       "3         NaN         0.0         NaN            0  ...            C   \n",
       "4         NaN         0.0         NaN            0  ...            C   \n",
       "\n",
       "   variable_21  variable_22  variable_23  variable_24  variable_25  \\\n",
       "0           j2          h45            0          0.0            0   \n",
       "1          j33         h234            0          1.0            0   \n",
       "2          j12          h28            0          0.0            0   \n",
       "3          j12          h64            0          1.0            0   \n",
       "4         j111         h991            0          1.0            0   \n",
       "\n",
       "   variable_26  variable_27  variable_28 target  \n",
       "0            1    19.323463           t1      0  \n",
       "1            1    41.177900           t1      0  \n",
       "2            1     3.614395           t1      0  \n",
       "3            0    49.041674           t1      0  \n",
       "4            0    17.909612           t1      0  \n",
       "\n",
       "[5 rows x 29 columns]"
      ]
     },
     "execution_count": 13,
     "metadata": {},
     "output_type": "execute_result"
    }
   ],
   "source": [
    "df = pd.read_csv(\"insclass_train.csv\")\n",
    "df.head()"
   ]
  },
  {
   "cell_type": "code",
   "execution_count": 14,
   "id": "B0niSkKNn70q",
   "metadata": {
    "colab": {
     "base_uri": "https://localhost:8080/"
    },
    "id": "B0niSkKNn70q",
    "outputId": "cc3de40a-b0e3-47ec-a97a-b697ce19c878"
   },
   "outputs": [
    {
     "data": {
      "text/plain": [
       "variable_1          0\n",
       "variable_2          0\n",
       "variable_3          0\n",
       "variable_4          0\n",
       "variable_5          0\n",
       "variable_6        111\n",
       "variable_7      95639\n",
       "variable_8      29899\n",
       "variable_9     134436\n",
       "variable_10         0\n",
       "variable_11         0\n",
       "variable_12      1528\n",
       "variable_13      1657\n",
       "variable_14      2927\n",
       "variable_15    151393\n",
       "variable_16        12\n",
       "variable_17        12\n",
       "variable_18        12\n",
       "variable_19         0\n",
       "variable_20         1\n",
       "variable_21         0\n",
       "variable_22         0\n",
       "variable_23         0\n",
       "variable_24      2207\n",
       "variable_25         0\n",
       "variable_26         0\n",
       "variable_27      2067\n",
       "variable_28         0\n",
       "target              0\n",
       "dtype: int64"
      ]
     },
     "execution_count": 14,
     "metadata": {},
     "output_type": "execute_result"
    }
   ],
   "source": [
    "df.isna().sum()"
   ]
  },
  {
   "cell_type": "code",
   "execution_count": 22,
   "id": "4X_Kv5Z-1ueX",
   "metadata": {
    "id": "4X_Kv5Z-1ueX"
   },
   "outputs": [],
   "source": [
    "minority_class = df[df['target'] == 1]\n",
    "majority_class = df[df['target'] == 0]\n",
    "\n",
    "if len(majority_class) > len(minority_class):\n",
    "    majority_class_balanced = majority_class.sample(n=len(minority_class), replace=False, random_state=42)\n",
    "    balanced_df = pd.concat([minority_class, majority_class_balanced], axis=0)\n",
    "else:\n",
    "    balanced_df = pd.concat([minority_class, majority_class], axis=0)"
   ]
  },
  {
   "cell_type": "code",
   "execution_count": 30,
   "id": "gSLmThFO0uYM",
   "metadata": {
    "colab": {
     "base_uri": "https://localhost:8080/"
    },
    "id": "gSLmThFO0uYM",
    "outputId": "1fe7b80d-533a-4678-e7ae-66c4cd140ac0"
   },
   "outputs": [
    {
     "data": {
      "text/plain": [
       "0    136947\n",
       "1     14459\n",
       "Name: target, dtype: int64"
      ]
     },
     "execution_count": 30,
     "metadata": {},
     "output_type": "execute_result"
    }
   ],
   "source": [
    "df[\"target\"].value_counts()"
   ]
  },
  {
   "cell_type": "code",
   "execution_count": 24,
   "id": "0netag36D2p1",
   "metadata": {
    "id": "0netag36D2p1"
   },
   "outputs": [],
   "source": [
    "from sklearn.model_selection import train_test_split\n",
    "balanced_df = balanced_df.drop(columns=[\"variable_1\", \"variable_5\",\"variable_20\", \"variable_21\",\"variable_22\", \"variable_28\",])\n",
    "balanced_df = balanced_df.drop(['variable_7', 'variable_9', 'variable_15'], axis=1)\n",
    "balanced_df = balanced_df.dropna()\n",
    "df_train, df_test = train_test_split(balanced_df, random_state=42, test_size=0.2)"
   ]
  },
  {
   "cell_type": "code",
   "execution_count": 25,
   "id": "Ur-doK8EENOJ",
   "metadata": {
    "id": "Ur-doK8EENOJ"
   },
   "outputs": [],
   "source": [
    "X_train, y_train = df_train.drop(columns=\"target\").values, df_train[\"target\"].values\n",
    "X_test, y_test = df_test.drop(columns=\"target\").values, df_test[\"target\"].values"
   ]
  },
  {
   "cell_type": "code",
   "execution_count": 26,
   "id": "ulX3gSOUd00_",
   "metadata": {
    "id": "ulX3gSOUd00_"
   },
   "outputs": [],
   "source": [
    "y_train = y_train.reshape(-1, 1)\n",
    "y_test = y_test.reshape(-1, 1)"
   ]
  },
  {
   "cell_type": "code",
   "execution_count": 27,
   "id": "v4F0iNItlAAd",
   "metadata": {
    "id": "v4F0iNItlAAd"
   },
   "outputs": [],
   "source": [
    "class LogisticRegressionGD(object):\n",
    "    def __init__(self):\n",
    "        self.a = None\n",
    "    def sigmoid(self, z):\n",
    "        return 1/(1 + np.exp(-z))\n",
    "    def predict(self, x):\n",
    "        return self.sigmoid(np.matmul(x , self.a))\n",
    "    def coefs(self):\n",
    "        return self.a\n",
    "    def LogLikelihood(self, x, Y):\n",
    "        return (np.matmul(np.transpose(Y), np.log(self.predict(x) + 1e-8)) + np.matmul(np.ones((Y.shape[1], Y.shape[0])) - np.transpose(Y),\n",
    "                                                                                      np.log(np.ones((Y.shape[0], Y.shape[1])) - self.predict(x) + 1e-8)))[0][0]\n",
    "\n",
    "    def CrossEntropy(self, x, Y):\n",
    "        preds = self.predict(x)\n",
    "        log_prob_pos = np.log(preds + 1e-8)\n",
    "        log_prob_neg = np.log(1 - preds + 1e-8)\n",
    "        cross_entropy = -np.sum(Y * log_prob_pos + (1 - Y) * log_prob_neg) / len(Y)\n",
    "        return cross_entropy\n",
    "    def accuracy(self, x, Y):\n",
    "        return (Y == self.predict(x)).mean()\n",
    "\n",
    "    def fit(self, x, Y, alpha = 0.001, epsylon = 0.001, max_steps = 5000, Rtype = \"LL\"):\n",
    "        self.a = np.ones(x.shape[1]).reshape(x.shape[1],1)\n",
    "        steps, errors = [], []\n",
    "        step = 0\n",
    "        for _ in range(max_steps):\n",
    "            if Rtype == \"LL\":\n",
    "                new_error = self.LogLikelihood(x, Y)\n",
    "                dT_a = np.matmul(np.transpose(x), Y - self.predict(x))\n",
    "                self.a += alpha*dT_a\n",
    "            elif Rtype == \"CE\":\n",
    "                new_error = self.CrossEntropy(x, Y)\n",
    "                dT_a = -np.matmul(np.transpose(x), Y - self.predict(x))\n",
    "                self.a -= alpha * dT_a\n",
    "            step += 1\n",
    "            steps.append(step)\n",
    "            errors.append(new_error)\n",
    "            if abs(new_error) < epsylon:\n",
    "                break\n",
    "        return steps, errors"
   ]
  },
  {
   "cell_type": "code",
   "execution_count": 42,
   "id": "YmWFpheT_GGe",
   "metadata": {
    "colab": {
     "base_uri": "https://localhost:8080/"
    },
    "id": "YmWFpheT_GGe",
    "outputId": "590a5fbe-2cb1-4c29-e9e0-c5a731f4d2b3"
   },
   "outputs": [
    {
     "data": {
      "text/plain": [
       "0    109391\n",
       "1     89263\n",
       "Name: target, dtype: int64"
      ]
     },
     "execution_count": 42,
     "metadata": {},
     "output_type": "execute_result"
    }
   ],
   "source": [
    "df = pd.read_csv(\"insclass_train.csv\")\n",
    "encoded_df.target.value_counts()"
   ]
  },
  {
   "cell_type": "code",
   "execution_count": 35,
   "id": "KorO60Vp4Q2_",
   "metadata": {
    "id": "KorO60Vp4Q2_"
   },
   "outputs": [],
   "source": [
    "df = pd.read_csv(\"insclass_train.csv\")\n",
    "minority_class = df[df['target'] == 1]\n",
    "majority_class = df[df['target'] == 0]\n",
    "minority_class_balanced = minority_class.sample(n=len(majority_class), replace=True, random_state=42)\n",
    "df = pd.concat([minority_class_balanced, majority_class], axis=0)\n",
    "df = df.drop(['variable_7', 'variable_9', 'variable_15'], axis=1)\n",
    "df = df.dropna()"
   ]
  },
  {
   "cell_type": "code",
   "execution_count": 36,
   "id": "mjc8bEbV4sy5",
   "metadata": {
    "colab": {
     "base_uri": "https://localhost:8080/",
     "height": 255
    },
    "id": "mjc8bEbV4sy5",
    "outputId": "a4002e3c-5311-4026-f7fb-c876890d83a2"
   },
   "outputs": [
    {
     "data": {
      "text/html": [
       "<div>\n",
       "<style scoped>\n",
       "    .dataframe tbody tr th:only-of-type {\n",
       "        vertical-align: middle;\n",
       "    }\n",
       "\n",
       "    .dataframe tbody tr th {\n",
       "        vertical-align: top;\n",
       "    }\n",
       "\n",
       "    .dataframe thead th {\n",
       "        text-align: right;\n",
       "    }\n",
       "</style>\n",
       "<table border=\"1\" class=\"dataframe\">\n",
       "  <thead>\n",
       "    <tr style=\"text-align: right;\">\n",
       "      <th></th>\n",
       "      <th>variable_2</th>\n",
       "      <th>variable_3</th>\n",
       "      <th>variable_4</th>\n",
       "      <th>variable_6</th>\n",
       "      <th>variable_8</th>\n",
       "      <th>variable_10</th>\n",
       "      <th>variable_11</th>\n",
       "      <th>variable_12</th>\n",
       "      <th>variable_13</th>\n",
       "      <th>variable_14</th>\n",
       "      <th>...</th>\n",
       "      <th>variable_22_h994</th>\n",
       "      <th>variable_22_h995</th>\n",
       "      <th>variable_22_h996</th>\n",
       "      <th>variable_22_h998</th>\n",
       "      <th>variable_22_h999</th>\n",
       "      <th>variable_28_t1</th>\n",
       "      <th>variable_28_t2</th>\n",
       "      <th>variable_28_t3</th>\n",
       "      <th>variable_28_t4</th>\n",
       "      <th>variable_28_t5</th>\n",
       "    </tr>\n",
       "  </thead>\n",
       "  <tbody>\n",
       "    <tr>\n",
       "      <th>57261</th>\n",
       "      <td>0</td>\n",
       "      <td>0</td>\n",
       "      <td>8</td>\n",
       "      <td>98.0</td>\n",
       "      <td>0.0</td>\n",
       "      <td>0</td>\n",
       "      <td>0</td>\n",
       "      <td>87.560950</td>\n",
       "      <td>34.495924</td>\n",
       "      <td>80.985224</td>\n",
       "      <td>...</td>\n",
       "      <td>0</td>\n",
       "      <td>0</td>\n",
       "      <td>0</td>\n",
       "      <td>0</td>\n",
       "      <td>0</td>\n",
       "      <td>1</td>\n",
       "      <td>0</td>\n",
       "      <td>0</td>\n",
       "      <td>0</td>\n",
       "      <td>0</td>\n",
       "    </tr>\n",
       "    <tr>\n",
       "      <th>140486</th>\n",
       "      <td>0</td>\n",
       "      <td>0</td>\n",
       "      <td>8</td>\n",
       "      <td>145.0</td>\n",
       "      <td>0.0</td>\n",
       "      <td>0</td>\n",
       "      <td>0</td>\n",
       "      <td>97.046523</td>\n",
       "      <td>33.144352</td>\n",
       "      <td>80.985224</td>\n",
       "      <td>...</td>\n",
       "      <td>0</td>\n",
       "      <td>0</td>\n",
       "      <td>0</td>\n",
       "      <td>0</td>\n",
       "      <td>0</td>\n",
       "      <td>1</td>\n",
       "      <td>0</td>\n",
       "      <td>0</td>\n",
       "      <td>0</td>\n",
       "      <td>0</td>\n",
       "    </tr>\n",
       "    <tr>\n",
       "      <th>55057</th>\n",
       "      <td>0</td>\n",
       "      <td>0</td>\n",
       "      <td>16</td>\n",
       "      <td>100.0</td>\n",
       "      <td>0.0</td>\n",
       "      <td>0</td>\n",
       "      <td>0</td>\n",
       "      <td>194.621521</td>\n",
       "      <td>109.845800</td>\n",
       "      <td>80.985224</td>\n",
       "      <td>...</td>\n",
       "      <td>0</td>\n",
       "      <td>0</td>\n",
       "      <td>0</td>\n",
       "      <td>0</td>\n",
       "      <td>0</td>\n",
       "      <td>1</td>\n",
       "      <td>0</td>\n",
       "      <td>0</td>\n",
       "      <td>0</td>\n",
       "      <td>0</td>\n",
       "    </tr>\n",
       "    <tr>\n",
       "      <th>124766</th>\n",
       "      <td>0</td>\n",
       "      <td>0</td>\n",
       "      <td>4</td>\n",
       "      <td>104.7</td>\n",
       "      <td>0.0</td>\n",
       "      <td>0</td>\n",
       "      <td>0</td>\n",
       "      <td>31.787491</td>\n",
       "      <td>41.177900</td>\n",
       "      <td>80.985224</td>\n",
       "      <td>...</td>\n",
       "      <td>0</td>\n",
       "      <td>0</td>\n",
       "      <td>0</td>\n",
       "      <td>0</td>\n",
       "      <td>0</td>\n",
       "      <td>1</td>\n",
       "      <td>0</td>\n",
       "      <td>0</td>\n",
       "      <td>0</td>\n",
       "      <td>0</td>\n",
       "    </tr>\n",
       "    <tr>\n",
       "      <th>117848</th>\n",
       "      <td>0</td>\n",
       "      <td>0</td>\n",
       "      <td>18</td>\n",
       "      <td>170.0</td>\n",
       "      <td>0.0</td>\n",
       "      <td>0</td>\n",
       "      <td>0</td>\n",
       "      <td>227.177018</td>\n",
       "      <td>37.183600</td>\n",
       "      <td>80.985224</td>\n",
       "      <td>...</td>\n",
       "      <td>0</td>\n",
       "      <td>0</td>\n",
       "      <td>0</td>\n",
       "      <td>0</td>\n",
       "      <td>0</td>\n",
       "      <td>1</td>\n",
       "      <td>0</td>\n",
       "      <td>0</td>\n",
       "      <td>0</td>\n",
       "      <td>0</td>\n",
       "    </tr>\n",
       "  </tbody>\n",
       "</table>\n",
       "<p>5 rows × 1577 columns</p>\n",
       "</div>"
      ],
      "text/plain": [
       "        variable_2  variable_3  variable_4  variable_6  variable_8  \\\n",
       "57261            0           0           8        98.0         0.0   \n",
       "140486           0           0           8       145.0         0.0   \n",
       "55057            0           0          16       100.0         0.0   \n",
       "124766           0           0           4       104.7         0.0   \n",
       "117848           0           0          18       170.0         0.0   \n",
       "\n",
       "        variable_10  variable_11  variable_12  variable_13  variable_14  ...  \\\n",
       "57261             0            0    87.560950    34.495924    80.985224  ...   \n",
       "140486            0            0    97.046523    33.144352    80.985224  ...   \n",
       "55057             0            0   194.621521   109.845800    80.985224  ...   \n",
       "124766            0            0    31.787491    41.177900    80.985224  ...   \n",
       "117848            0            0   227.177018    37.183600    80.985224  ...   \n",
       "\n",
       "        variable_22_h994  variable_22_h995  variable_22_h996  \\\n",
       "57261                  0                 0                 0   \n",
       "140486                 0                 0                 0   \n",
       "55057                  0                 0                 0   \n",
       "124766                 0                 0                 0   \n",
       "117848                 0                 0                 0   \n",
       "\n",
       "        variable_22_h998  variable_22_h999  variable_28_t1  variable_28_t2  \\\n",
       "57261                  0                 0               1               0   \n",
       "140486                 0                 0               1               0   \n",
       "55057                  0                 0               1               0   \n",
       "124766                 0                 0               1               0   \n",
       "117848                 0                 0               1               0   \n",
       "\n",
       "        variable_28_t3  variable_28_t4  variable_28_t5  \n",
       "57261                0               0               0  \n",
       "140486               0               0               0  \n",
       "55057                0               0               0  \n",
       "124766               0               0               0  \n",
       "117848               0               0               0  \n",
       "\n",
       "[5 rows x 1577 columns]"
      ]
     },
     "execution_count": 36,
     "metadata": {},
     "output_type": "execute_result"
    }
   ],
   "source": [
    "encoded_df = pd.get_dummies(df, columns=['variable_1', 'variable_5', 'variable_20', 'variable_21','variable_22','variable_28',],\n",
    "                            dtype=int)\n",
    "encoded_df.head()"
   ]
  },
  {
   "cell_type": "code",
   "execution_count": 37,
   "id": "V-Zq4p-h71rW",
   "metadata": {
    "colab": {
     "base_uri": "https://localhost:8080/"
    },
    "id": "V-Zq4p-h71rW",
    "outputId": "cdd1faff-05aa-4eb8-daf4-455198e1f50e"
   },
   "outputs": [
    {
     "name": "stdout",
     "output_type": "stream",
     "text": [
      "<class 'pandas.core.frame.DataFrame'>\n",
      "Int64Index: 198654 entries, 57261 to 151405\n",
      "Columns: 1577 entries, variable_2 to variable_28_t5\n",
      "dtypes: float64(11), int32(1557), int64(9)\n",
      "memory usage: 1.2 GB\n"
     ]
    }
   ],
   "source": [
    "encoded_df.info()"
   ]
  },
  {
   "cell_type": "code",
   "execution_count": 38,
   "id": "m4f0cEP46Ssq",
   "metadata": {
    "id": "m4f0cEP46Ssq"
   },
   "outputs": [],
   "source": [
    "df_train, df_test = train_test_split(encoded_df, random_state=42, test_size=0.2)\n",
    "X_train, y_train = df_train.drop(columns=\"target\").values, df_train[\"target\"].values\n",
    "X_test, y_test = df_test.drop(columns=\"target\").values, df_test[\"target\"].values\n",
    "y_train = y_train.reshape(-1, 1)\n",
    "y_test = y_test.reshape(-1, 1)"
   ]
  },
  {
   "cell_type": "code",
   "execution_count": 39,
   "id": "zl4i70vo63un",
   "metadata": {
    "colab": {
     "base_uri": "https://localhost:8080/"
    },
    "id": "zl4i70vo63un",
    "outputId": "bffa494c-93fc-4057-e190-83df25e79c15"
   },
   "outputs": [
    {
     "name": "stderr",
     "output_type": "stream",
     "text": [
      "C:\\Users\\xbowz\\AppData\\Local\\Temp\\ipykernel_4152\\2881126915.py:6: RuntimeWarning: overflow encountered in exp\n",
      "  return 1/(1 + np.exp(-z))\n"
     ]
    }
   ],
   "source": [
    "# intercept = np.ones((X_train.shape[0], 1))\n",
    "# X_train_ = np.concatenate((intercept, X_train), axis = 1)\n",
    "regr = LogisticRegressionGD()\n",
    "steps, errors =  regr.fit(X_train, y_train, alpha = 0.0005, epsylon = 0.001, max_steps = 1000, Rtype = \"CE\")"
   ]
  },
  {
   "cell_type": "code",
   "execution_count": 40,
   "id": "3XVs7u-465a2",
   "metadata": {
    "id": "3XVs7u-465a2"
   },
   "outputs": [
    {
     "name": "stdout",
     "output_type": "stream",
     "text": [
      "Accuracy: 0.5638418363494501\n",
      "f1_score: 0.1253722303538081\n"
     ]
    },
    {
     "name": "stderr",
     "output_type": "stream",
     "text": [
      "C:\\Users\\xbowz\\AppData\\Local\\Temp\\ipykernel_4152\\2881126915.py:6: RuntimeWarning: overflow encountered in exp\n",
      "  return 1/(1 + np.exp(-z))\n",
      "C:\\Users\\xbowz\\AppData\\Local\\Temp\\ipykernel_4152\\2881126915.py:6: RuntimeWarning: overflow encountered in exp\n",
      "  return 1/(1 + np.exp(-z))\n"
     ]
    }
   ],
   "source": [
    "print(f\"Accuracy: {accuracy_score((regr.predict(X_test) > 0.5).astype(int), y_test)}\")\n",
    "print(f\"f1_score: {f1_score((regr.predict(X_test) > 0.5).astype(int), y_test)}\")"
   ]
  },
  {
   "cell_type": "code",
   "execution_count": 43,
   "id": "ALtJ5zOW66rC",
   "metadata": {
    "id": "ALtJ5zOW66rC"
   },
   "outputs": [
    {
     "name": "stderr",
     "output_type": "stream",
     "text": [
      "C:\\Users\\xbowz\\AppData\\Local\\Temp\\ipykernel_4152\\2881126915.py:6: RuntimeWarning: overflow encountered in exp\n",
      "  return 1/(1 + np.exp(-z))\n"
     ]
    },
    {
     "name": "stdout",
     "output_type": "stream",
     "text": [
      "Accuracy: 0.5638418363494501\n",
      "f1_score: 0.1253722303538081\n"
     ]
    },
    {
     "name": "stderr",
     "output_type": "stream",
     "text": [
      "C:\\Users\\xbowz\\AppData\\Local\\Temp\\ipykernel_4152\\2881126915.py:6: RuntimeWarning: overflow encountered in exp\n",
      "  return 1/(1 + np.exp(-z))\n"
     ]
    }
   ],
   "source": [
    "regr = LogisticRegressionGD()\n",
    "steps, errors =  regr.fit(X_train, y_train, alpha = 0.0005, epsylon = 0.001, max_steps = 1000, Rtype = \"LL\")\n",
    "print(f\"Accuracy: {accuracy_score((regr.predict(X_test) > 0.5).astype(int), y_test)}\")\n",
    "print(f\"f1_score: {f1_score((regr.predict(X_test) > 0.5).astype(int), y_test)}\")"
   ]
  },
  {
   "cell_type": "code",
   "execution_count": null,
   "id": "cac37135",
   "metadata": {},
   "outputs": [],
   "source": []
  }
 ],
 "metadata": {
  "colab": {
   "provenance": []
  },
  "kernelspec": {
   "display_name": "Python 3 (ipykernel)",
   "language": "python",
   "name": "python3"
  },
  "language_info": {
   "codemirror_mode": {
    "name": "ipython",
    "version": 3
   },
   "file_extension": ".py",
   "mimetype": "text/x-python",
   "name": "python",
   "nbconvert_exporter": "python",
   "pygments_lexer": "ipython3",
   "version": "3.11.1"
  }
 },
 "nbformat": 4,
 "nbformat_minor": 5
}
