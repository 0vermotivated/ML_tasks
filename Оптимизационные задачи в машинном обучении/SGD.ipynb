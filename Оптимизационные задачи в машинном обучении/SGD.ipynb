{
 "cells": [
  {
   "cell_type": "code",
   "execution_count": 166,
   "id": "c3f814ff",
   "metadata": {},
   "outputs": [],
   "source": [
    "import numpy as np\n",
    "import pandas as pd\n",
    "import matplotlib.pyplot as plt\n",
    "import seaborn as sns\n",
    "import time\n",
    "from sklearn.model_selection import train_test_split\n",
    "from sklearn.linear_model import LinearRegression\n",
    "from sklearn.preprocessing import StandardScaler\n",
    "from sklearn.metrics import mean_squared_error\n",
    "from sklearn.ensemble import RandomForestRegressor\n",
    "from sklearn.preprocessing import MinMaxScaler\n",
    "from sklearn.neighbors import KNeighborsRegressor\n",
    "from sklearn.ensemble import GradientBoostingRegressor\n",
    "from sklearn.metrics import mean_absolute_error\n",
    "from sklearn.metrics import r2_score\n",
    "from sklearn.metrics import accuracy_score"
   ]
  },
  {
   "cell_type": "code",
   "execution_count": 36,
   "id": "62512cb4",
   "metadata": {},
   "outputs": [
    {
     "name": "stdout",
     "output_type": "stream",
     "text": [
      "<class 'pandas.core.frame.DataFrame'>\n",
      "RangeIndex: 4258 entries, 0 to 4257\n",
      "Data columns (total 9 columns):\n",
      " #   Column       Non-Null Count  Dtype  \n",
      "---  ------       --------------  -----  \n",
      " 0   id           4258 non-null   int64  \n",
      " 1   platform     4258 non-null   object \n",
      " 2   year         4258 non-null   int64  \n",
      " 3   genre        4258 non-null   object \n",
      " 4   publisher    4258 non-null   object \n",
      " 5   na_sales     4258 non-null   float64\n",
      " 6   eu_sales     4258 non-null   float64\n",
      " 7   other_sales  4258 non-null   float64\n",
      " 8   jp_sales     4258 non-null   float64\n",
      "dtypes: float64(4), int64(2), object(3)\n",
      "memory usage: 299.5+ KB\n"
     ]
    }
   ],
   "source": [
    "data = pd.read_csv(\"Video Games.csv\")\n",
    "data.info()"
   ]
  },
  {
   "cell_type": "code",
   "execution_count": 37,
   "id": "2080c64e",
   "metadata": {},
   "outputs": [
    {
     "data": {
      "text/html": [
       "<div>\n",
       "<style scoped>\n",
       "    .dataframe tbody tr th:only-of-type {\n",
       "        vertical-align: middle;\n",
       "    }\n",
       "\n",
       "    .dataframe tbody tr th {\n",
       "        vertical-align: top;\n",
       "    }\n",
       "\n",
       "    .dataframe thead th {\n",
       "        text-align: right;\n",
       "    }\n",
       "</style>\n",
       "<table border=\"1\" class=\"dataframe\">\n",
       "  <thead>\n",
       "    <tr style=\"text-align: right;\">\n",
       "      <th></th>\n",
       "      <th>id</th>\n",
       "      <th>platform</th>\n",
       "      <th>year</th>\n",
       "      <th>genre</th>\n",
       "      <th>publisher</th>\n",
       "      <th>na_sales</th>\n",
       "      <th>eu_sales</th>\n",
       "      <th>other_sales</th>\n",
       "      <th>jp_sales</th>\n",
       "    </tr>\n",
       "  </thead>\n",
       "  <tbody>\n",
       "    <tr>\n",
       "      <th>0</th>\n",
       "      <td>2830</td>\n",
       "      <td>PSV</td>\n",
       "      <td>2012</td>\n",
       "      <td>Racing</td>\n",
       "      <td>Electronic Arts</td>\n",
       "      <td>0.38</td>\n",
       "      <td>0.52</td>\n",
       "      <td>0.25</td>\n",
       "      <td>1.01</td>\n",
       "    </tr>\n",
       "    <tr>\n",
       "      <th>1</th>\n",
       "      <td>3865</td>\n",
       "      <td>SNES</td>\n",
       "      <td>1996</td>\n",
       "      <td>Role-Playing</td>\n",
       "      <td>ASCII Entertainment</td>\n",
       "      <td>0.00</td>\n",
       "      <td>0.00</td>\n",
       "      <td>0.00</td>\n",
       "      <td>1.31</td>\n",
       "    </tr>\n",
       "    <tr>\n",
       "      <th>2</th>\n",
       "      <td>4617</td>\n",
       "      <td>PSP</td>\n",
       "      <td>2009</td>\n",
       "      <td>Sports</td>\n",
       "      <td>Takara Tomy</td>\n",
       "      <td>0.09</td>\n",
       "      <td>0.00</td>\n",
       "      <td>0.01</td>\n",
       "      <td>1.04</td>\n",
       "    </tr>\n",
       "    <tr>\n",
       "      <th>3</th>\n",
       "      <td>3675</td>\n",
       "      <td>DS</td>\n",
       "      <td>2007</td>\n",
       "      <td>Fighting</td>\n",
       "      <td>Takara Tomy</td>\n",
       "      <td>0.00</td>\n",
       "      <td>0.00</td>\n",
       "      <td>0.00</td>\n",
       "      <td>1.08</td>\n",
       "    </tr>\n",
       "    <tr>\n",
       "      <th>4</th>\n",
       "      <td>1612</td>\n",
       "      <td>PSV</td>\n",
       "      <td>2016</td>\n",
       "      <td>Action</td>\n",
       "      <td>Namco Bandai Games</td>\n",
       "      <td>0.00</td>\n",
       "      <td>0.00</td>\n",
       "      <td>0.00</td>\n",
       "      <td>1.12</td>\n",
       "    </tr>\n",
       "  </tbody>\n",
       "</table>\n",
       "</div>"
      ],
      "text/plain": [
       "     id platform  year         genre            publisher  na_sales  eu_sales  \\\n",
       "0  2830      PSV  2012        Racing      Electronic Arts      0.38      0.52   \n",
       "1  3865     SNES  1996  Role-Playing  ASCII Entertainment      0.00      0.00   \n",
       "2  4617      PSP  2009        Sports          Takara Tomy      0.09      0.00   \n",
       "3  3675       DS  2007      Fighting          Takara Tomy      0.00      0.00   \n",
       "4  1612      PSV  2016        Action   Namco Bandai Games      0.00      0.00   \n",
       "\n",
       "   other_sales  jp_sales  \n",
       "0         0.25      1.01  \n",
       "1         0.00      1.31  \n",
       "2         0.01      1.04  \n",
       "3         0.00      1.08  \n",
       "4         0.00      1.12  "
      ]
     },
     "execution_count": 37,
     "metadata": {},
     "output_type": "execute_result"
    }
   ],
   "source": [
    "data.head()"
   ]
  },
  {
   "cell_type": "code",
   "execution_count": 38,
   "id": "09564e63",
   "metadata": {},
   "outputs": [
    {
     "data": {
      "text/plain": [
       "id             0\n",
       "platform       0\n",
       "year           0\n",
       "genre          0\n",
       "publisher      0\n",
       "na_sales       0\n",
       "eu_sales       0\n",
       "other_sales    0\n",
       "jp_sales       0\n",
       "dtype: int64"
      ]
     },
     "execution_count": 38,
     "metadata": {},
     "output_type": "execute_result"
    }
   ],
   "source": [
    "data.isnull().sum()"
   ]
  },
  {
   "cell_type": "code",
   "execution_count": 39,
   "id": "35a8f16c",
   "metadata": {},
   "outputs": [
    {
     "data": {
      "text/plain": [
       "Action          777\n",
       "Role-Playing    710\n",
       "Adventure       541\n",
       "Sports          427\n",
       "Misc            378\n",
       "Fighting        342\n",
       "Shooter         249\n",
       "Platform        196\n",
       "Strategy        186\n",
       "Simulation      181\n",
       "Racing          160\n",
       "Puzzle          111\n",
       "Name: genre, dtype: int64"
      ]
     },
     "execution_count": 39,
     "metadata": {},
     "output_type": "execute_result"
    }
   ],
   "source": [
    "data['genre'].value_counts()"
   ]
  },
  {
   "cell_type": "code",
   "execution_count": 40,
   "id": "5e3f663f",
   "metadata": {},
   "outputs": [],
   "source": [
    "sale_pbl = data[['publisher', 'jp_sales']]\n",
    "sale_pbl = sale_pbl.groupby('publisher')['jp_sales'].sum().sort_values(ascending=False).head(20)\n",
    "sale_pbl = pd.DataFrame(sale_pbl).reset_index()"
   ]
  },
  {
   "cell_type": "code",
   "execution_count": 41,
   "id": "5efcbc4c",
   "metadata": {},
   "outputs": [
    {
     "data": {
      "text/plain": [
       "(array([ 0,  1,  2,  3,  4,  5,  6,  7,  8,  9, 10, 11, 12, 13, 14, 15, 16,\n",
       "        17, 18, 19]),\n",
       " [Text(0, 0, 'Nintendo'),\n",
       "  Text(1, 0, 'Namco Bandai Games'),\n",
       "  Text(2, 0, 'Konami Digital Entertainment'),\n",
       "  Text(3, 0, 'Sega'),\n",
       "  Text(4, 0, 'Sony Computer Entertainment'),\n",
       "  Text(5, 0, 'Capcom'),\n",
       "  Text(6, 0, 'Tecmo Koei'),\n",
       "  Text(7, 0, 'Electronic Arts'),\n",
       "  Text(8, 0, 'Square Enix'),\n",
       "  Text(9, 0, 'Idea Factory'),\n",
       "  Text(10, 0, 'Ubisoft'),\n",
       "  Text(11, 0, 'Nippon Ichi Software'),\n",
       "  Text(12, 0, 'Activision'),\n",
       "  Text(13, 0, 'Banpresto'),\n",
       "  Text(14, 0, 'Hudson Soft'),\n",
       "  Text(15, 0, 'D3Publisher'),\n",
       "  Text(16, 0, 'SquareSoft'),\n",
       "  Text(17, 0, 'Microsoft Game Studios'),\n",
       "  Text(18, 0, 'Take-Two Interactive'),\n",
       "  Text(19, 0, '5pb')])"
      ]
     },
     "execution_count": 41,
     "metadata": {},
     "output_type": "execute_result"
    },
    {
     "data": {
      "image/png": "[encoded data removed]",
      "text/plain": [
       "<Figure size 1500x1000 with 1 Axes>"
      ]
     },
     "metadata": {},
     "output_type": "display_data"
    }
   ],
   "source": [
    "plt.figure(figsize=(15, 10))\n",
    "sns.barplot(x='publisher', y='jp_sales', data=sale_pbl)\n",
    "plt.xticks(rotation=90)"
   ]
  },
  {
   "cell_type": "code",
   "execution_count": 42,
   "id": "fd4ef757",
   "metadata": {},
   "outputs": [],
   "source": [
    "def create_dictionary(column):\n",
    "    unique_values = set(column)\n",
    "    value_to_index = {value: index for index, value in enumerate(unique_values)}\n",
    "    return value_to_index"
   ]
  },
  {
   "cell_type": "code",
   "execution_count": 43,
   "id": "bd8202cd",
   "metadata": {},
   "outputs": [],
   "source": [
    "for column in [\"platform\", \"genre\", \"publisher\"]:\n",
    "    value_to_index = create_dictionary(data[column])\n",
    "    data[column] = data[column].apply(lambda x: value_to_index[x])"
   ]
  },
  {
   "cell_type": "code",
   "execution_count": 121,
   "id": "f7583533",
   "metadata": {},
   "outputs": [
    {
     "data": {
      "text/html": [
       "<div>\n",
       "<style scoped>\n",
       "    .dataframe tbody tr th:only-of-type {\n",
       "        vertical-align: middle;\n",
       "    }\n",
       "\n",
       "    .dataframe tbody tr th {\n",
       "        vertical-align: top;\n",
       "    }\n",
       "\n",
       "    .dataframe thead th {\n",
       "        text-align: right;\n",
       "    }\n",
       "</style>\n",
       "<table border=\"1\" class=\"dataframe\">\n",
       "  <thead>\n",
       "    <tr style=\"text-align: right;\">\n",
       "      <th></th>\n",
       "      <th>id</th>\n",
       "      <th>platform</th>\n",
       "      <th>year</th>\n",
       "      <th>genre</th>\n",
       "      <th>publisher</th>\n",
       "      <th>na_sales</th>\n",
       "      <th>eu_sales</th>\n",
       "      <th>other_sales</th>\n",
       "      <th>jp_sales</th>\n",
       "    </tr>\n",
       "  </thead>\n",
       "  <tbody>\n",
       "    <tr>\n",
       "      <th>0</th>\n",
       "      <td>2830</td>\n",
       "      <td>19</td>\n",
       "      <td>2012</td>\n",
       "      <td>4</td>\n",
       "      <td>165</td>\n",
       "      <td>0.38</td>\n",
       "      <td>0.52</td>\n",
       "      <td>0.25</td>\n",
       "      <td>1.01</td>\n",
       "    </tr>\n",
       "    <tr>\n",
       "      <th>1</th>\n",
       "      <td>3865</td>\n",
       "      <td>22</td>\n",
       "      <td>1996</td>\n",
       "      <td>10</td>\n",
       "      <td>163</td>\n",
       "      <td>0.00</td>\n",
       "      <td>0.00</td>\n",
       "      <td>0.00</td>\n",
       "      <td>1.31</td>\n",
       "    </tr>\n",
       "    <tr>\n",
       "      <th>2</th>\n",
       "      <td>4617</td>\n",
       "      <td>20</td>\n",
       "      <td>2009</td>\n",
       "      <td>8</td>\n",
       "      <td>116</td>\n",
       "      <td>0.09</td>\n",
       "      <td>0.00</td>\n",
       "      <td>0.01</td>\n",
       "      <td>1.04</td>\n",
       "    </tr>\n",
       "    <tr>\n",
       "      <th>3</th>\n",
       "      <td>3675</td>\n",
       "      <td>10</td>\n",
       "      <td>2007</td>\n",
       "      <td>5</td>\n",
       "      <td>116</td>\n",
       "      <td>0.00</td>\n",
       "      <td>0.00</td>\n",
       "      <td>0.00</td>\n",
       "      <td>1.08</td>\n",
       "    </tr>\n",
       "    <tr>\n",
       "      <th>4</th>\n",
       "      <td>1612</td>\n",
       "      <td>19</td>\n",
       "      <td>2016</td>\n",
       "      <td>9</td>\n",
       "      <td>189</td>\n",
       "      <td>0.00</td>\n",
       "      <td>0.00</td>\n",
       "      <td>0.00</td>\n",
       "      <td>1.12</td>\n",
       "    </tr>\n",
       "  </tbody>\n",
       "</table>\n",
       "</div>"
      ],
      "text/plain": [
       "     id  platform  year  genre  publisher  na_sales  eu_sales  other_sales  \\\n",
       "0  2830        19  2012      4        165      0.38      0.52         0.25   \n",
       "1  3865        22  1996     10        163      0.00      0.00         0.00   \n",
       "2  4617        20  2009      8        116      0.09      0.00         0.01   \n",
       "3  3675        10  2007      5        116      0.00      0.00         0.00   \n",
       "4  1612        19  2016      9        189      0.00      0.00         0.00   \n",
       "\n",
       "   jp_sales  \n",
       "0      1.01  \n",
       "1      1.31  \n",
       "2      1.04  \n",
       "3      1.08  \n",
       "4      1.12  "
      ]
     },
     "execution_count": 121,
     "metadata": {},
     "output_type": "execute_result"
    }
   ],
   "source": [
    "data.head()"
   ]
  },
  {
   "cell_type": "code",
   "execution_count": 49,
   "id": "d276afcf",
   "metadata": {},
   "outputs": [
    {
     "name": "stdout",
     "output_type": "stream",
     "text": [
      "<class 'pandas.core.frame.DataFrame'>\n",
      "RangeIndex: 4258 entries, 0 to 4257\n",
      "Data columns (total 9 columns):\n",
      " #   Column       Non-Null Count  Dtype  \n",
      "---  ------       --------------  -----  \n",
      " 0   id           4258 non-null   int64  \n",
      " 1   platform     4258 non-null   int64  \n",
      " 2   year         4258 non-null   int64  \n",
      " 3   genre        4258 non-null   int64  \n",
      " 4   publisher    4258 non-null   int64  \n",
      " 5   na_sales     4258 non-null   float64\n",
      " 6   eu_sales     4258 non-null   float64\n",
      " 7   other_sales  4258 non-null   float64\n",
      " 8   jp_sales     4258 non-null   float64\n",
      "dtypes: float64(4), int64(5)\n",
      "memory usage: 299.5 KB\n"
     ]
    }
   ],
   "source": [
    "data.info()"
   ]
  },
  {
   "cell_type": "code",
   "execution_count": 63,
   "id": "181a6804",
   "metadata": {},
   "outputs": [
    {
     "name": "stdout",
     "output_type": "stream",
     "text": [
      "       Feature  Importance\n",
      "5     na_sales    0.224384\n",
      "6     eu_sales    0.200419\n",
      "2         year    0.131936\n",
      "4    publisher    0.116493\n",
      "1     platform    0.104116\n",
      "0           id    0.083102\n",
      "7  other_sales    0.070762\n",
      "3        genre    0.068788\n"
     ]
    }
   ],
   "source": [
    "feature_importance = model.feature_importances_\n",
    "\n",
    "importance_df = pd.DataFrame({'Feature': X.columns, 'Importance': feature_importance})\n",
    "importance_df = importance_df.sort_values(by='Importance', ascending=False)\n",
    "\n",
    "print(importance_df)"
   ]
  },
  {
   "cell_type": "code",
   "execution_count": 173,
   "id": "e5803cc7",
   "metadata": {},
   "outputs": [
    {
     "name": "stdout",
     "output_type": "stream",
     "text": [
      "0.6789687298815628\n"
     ]
    }
   ],
   "source": [
    "X = data.drop(['jp_sales'], axis=1) \n",
    "y = data['jp_sales'] \n",
    "\n",
    "X_train, X_test, y_train, y_test = train_test_split(X, y, test_size=0.2, random_state=42)\n",
    "model = RandomForestRegressor(n_estimators=100, random_state=42)\n",
    "model.fit(X_train, y_train)\n",
    "\n",
    "predictions = model.predict(X_test)\n",
    "\n",
    "score = model.score(X_test, y_test)\n",
    "print(score)"
   ]
  },
  {
   "cell_type": "code",
   "execution_count": 174,
   "id": "5db9bfe0",
   "metadata": {},
   "outputs": [
    {
     "name": "stdout",
     "output_type": "stream",
     "text": [
      "0.6383697940826474\n"
     ]
    }
   ],
   "source": [
    "from xgboost import XGBRegressor\n",
    "model = XGBRegressor()\n",
    "X_train = scaler.fit_transform(X_train)\n",
    "X_test= scaler.transform(X_test)\n",
    "model.fit(X_train, y_train)\n",
    "\n",
    "predictions = model.predict(X_test)\n",
    "score = model.score(X_test, y_test)\n",
    "print(score)"
   ]
  },
  {
   "cell_type": "code",
   "execution_count": 158,
   "id": "82a99eaf",
   "metadata": {},
   "outputs": [
    {
     "name": "stdout",
     "output_type": "stream",
     "text": [
      "Среднеквадратичная ошибка: 0.1814493253715634\n",
      "0.39964744394217766\n"
     ]
    }
   ],
   "source": [
    "X = data.drop('jp_sales', axis=1)  \n",
    "X = (X - np.min(X, axis=0)) / (np.max(X, axis=0) - np.min(X, axis=0))\n",
    "X = np.hstack((np.ones((X.shape[0], 1)), X))\n",
    "y = data['jp_sales'] \n",
    "\n",
    "X_train, X_test, y_train, y_test = train_test_split(X, y, test_size=0.2, random_state=42)\n",
    "\n",
    "model = LinearRegression()\n",
    "model.fit(X_train, y_train)\n",
    "\n",
    "predictions = model.predict(X_test)\n",
    "\n",
    "score = model.score(X_test, y_test)\n",
    "print(score)"
   ]
  },
  {
   "cell_type": "code",
   "execution_count": 170,
   "id": "1f9bc169",
   "metadata": {},
   "outputs": [
    {
     "name": "stdout",
     "output_type": "stream",
     "text": [
      "0.7028092530222613\n"
     ]
    }
   ],
   "source": [
    "X = data.drop('jp_sales', axis=1) \n",
    "X = (X - np.min(X, axis=0)) / (np.max(X, axis=0) - np.min(X, axis=0))\n",
    "X = np.hstack((np.ones((X.shape[0], 1)), X))\n",
    "y = data['jp_sales']  \n",
    "\n",
    "X_train, X_test, y_train, y_test = train_test_split(X, y, test_size=0.2, random_state=42)\n",
    "\n",
    "model = GradientBoostingRegressor(n_estimators=100, learning_rate=0.1, random_state=42)\n",
    "model.fit(X_train, y_train)\n",
    "\n",
    "predictions = model.predict(X_test)\n",
    "\n",
    "score = model.score(X_test, y_test)\n",
    "print(score)"
   ]
  },
  {
   "cell_type": "code",
   "execution_count": 70,
   "id": "3826f45e",
   "metadata": {},
   "outputs": [
    {
     "name": "stdout",
     "output_type": "stream",
     "text": [
      "Определитель матрицы (X^T * X): 3.0190207711782497e+46\n"
     ]
    }
   ],
   "source": [
    "X = X.values\n",
    "X_transpose = np.transpose(X)\n",
    "\n",
    "X_transpose_X = np.dot(X_transpose, X)\n",
    "\n",
    "determinant = np.linalg.det(X_transpose_X)\n",
    "\n",
    "print(\"Определитель матрицы (X^T * X):\", determinant)"
   ]
  },
  {
   "cell_type": "code",
   "execution_count": 181,
   "id": "423f3c7e",
   "metadata": {},
   "outputs": [
    {
     "name": "stdout",
     "output_type": "stream",
     "text": [
      "MAE: 0.2022850058172538\n",
      "MAPE: 13.620889272372017%\n"
     ]
    }
   ],
   "source": [
    "X = data.drop('jp_sales', axis=1)\n",
    "X = (X - np.min(X, axis=0)) / (np.max(X, axis=0) - np.min(X, axis=0))\n",
    "X = np.hstack((np.ones((X.shape[0], 1)), X))\n",
    "Y = data['jp_sales']\n",
    "\n",
    "class MultipleRegression:\n",
    "    def __init__(self, learning_rate=0.01, iterations=3000):\n",
    "        self.learning_rate = learning_rate\n",
    "        self.iterations = iterations\n",
    "        self.coefficients = None\n",
    "        self.errors = []\n",
    "\n",
    "    def fit(self, X, Y):\n",
    "        self.coefficients = np.zeros(X.shape[1])\n",
    "        for _ in range(self.iterations):\n",
    "            predictions = X @ self.coefficients\n",
    "            errors = predictions - Y\n",
    "            gradient = 2 * X.T @ errors / len(Y)\n",
    "            self.coefficients -= self.learning_rate * gradient\n",
    "\n",
    "            self.errors.append(np.mean(errors**2))\n",
    "\n",
    "    def predict(self, X):\n",
    "        return X @ self.coefficients\n",
    "\n",
    "model = MultipleRegression(learning_rate=0.01, iterations=3000)\n",
    "model.fit(X, Y)\n",
    "\n",
    "\n",
    "predictions = model.predict(X)\n",
    "\n",
    "mae = np.mean(np.abs(predictions - Y))\n",
    "mape = np.mean(np.abs((predictions - Y) / Y)) * 100\n",
    "\n",
    "print(f'MAE: {mae}')\n",
    "print(f'MAPE: {mape}%')"
   ]
  },
  {
   "cell_type": "code",
   "execution_count": 132,
   "id": "6cd57521",
   "metadata": {},
   "outputs": [
    {
     "name": "stdout",
     "output_type": "stream",
     "text": [
      "MSE на обучающей выборке: 0.1829017369525641\n",
      "MSE на тестовой выборке: 0.2378870582387962\n"
     ]
    }
   ],
   "source": [
    "from sklearn.model_selection import train_test_split\n",
    "from sklearn.metrics import mean_squared_error\n",
    "\n",
    "X_train, X_test, Y_train, Y_test = train_test_split(X, Y, test_size=0.2, random_state=42)\n",
    "\n",
    "model = MultipleRegression(learning_rate=0.01, iterations=10000)\n",
    "model.fit(X_train, Y_train)\n",
    "\n",
    "predictions_train = model.predict(X_train)\n",
    "predictions_test = model.predict(X_test)\n",
    "\n",
    "mse_train = mean_squared_error(Y_train, predictions_train)\n",
    "mse_test = mean_squared_error(Y_test, predictions_test)\n",
    "\n",
    "print(f'MSE на обучающей выборке: {mse_train}')\n",
    "print(f'MSE на тестовой выборке: {mse_test}')"
   ]
  },
  {
   "cell_type": "code",
   "execution_count": 161,
   "id": "c2fe29e1",
   "metadata": {},
   "outputs": [
    {
     "name": "stdout",
     "output_type": "stream",
     "text": [
      "Обучающая (batch_size=1): 0.23465005045200257\n",
      "Тестовая (batch_size=1): 0.3031265252818447\n",
      "\n",
      "Обучающая (batch_size=16): 0.2333115506317966\n",
      "Тестовая (batch_size=16): 0.30385466644108017\n",
      "\n",
      "Обучающая (batch_size=64): 0.23269797401264317\n",
      "Тестовая (batch_size=64): 0.30257186075061515\n",
      "\n",
      "Обучающая (batch_size=128): 0.23330963813787353\n",
      "Тестовая (batch_size=128): 0.30327331720977707\n",
      "\n",
      "Обучающая (batch_size=256): 0.2331632800358445\n",
      "Тестовая (batch_size=256): 0.3032365756019352\n",
      "\n"
     ]
    }
   ],
   "source": [
    "class StochasticGradientDescent:\n",
    "    def __init__(self, learning_rate=0.01, iterations=1000, batch_size=1):\n",
    "        \n",
    "        self.learning_rate = learning_rate\n",
    "        self.iterations = iterations\n",
    "        self.batch_size = batch_size\n",
    "        self.coefficients = None\n",
    "\n",
    "    def fit(self, X, Y):\n",
    "        self.coefficients = np.zeros(X.shape[1])\n",
    "        m = len(Y)\n",
    "\n",
    "        for _ in range(self.iterations):\n",
    "            indices = np.random.choice(m, size=self.batch_size, replace=False)\n",
    "            X_batch, Y_batch = X[indices], Y[indices]\n",
    "\n",
    "            predictions = X_batch @ self.coefficients\n",
    "            errors = predictions - Y_batch\n",
    "            gradient = 2 * X_batch.T @ errors / len(Y_batch)\n",
    "\n",
    "            self.coefficients -= self.learning_rate * gradient\n",
    "\n",
    "    def predict(self, X):\n",
    "        return X @ self.coefficients\n",
    "\n",
    "batch_sizes = [1, 16, 64, 128, 256]\n",
    "\n",
    "for batch_size in batch_sizes:\n",
    "    sgd_model = StochasticGradientDescent(learning_rate=0.01, iterations=1000, batch_size=batch_size)\n",
    "    sgd_model.fit(X_train, Y_train)\n",
    "\n",
    "    predictions_train_sgd = sgd_model.predict(X_train)\n",
    "    predictions_test_sgd = sgd_model.predict(X_test)\n",
    "\n",
    "    mse_train_sgd = mean_squared_error(Y_train, predictions_train_sgd)\n",
    "    mse_test_sgd = mean_squared_error(Y_test, predictions_test_sgd)\n",
    "\n",
    "    print(f'Обучающая (batch_size={batch_size}): {mse_train_sgd}')\n",
    "    print(f'Тестовая (batch_size={batch_size}): {mse_test_sgd}')\n",
    "    print()"
   ]
  },
  {
   "cell_type": "code",
   "execution_count": 150,
   "id": "dac9c0d0",
   "metadata": {},
   "outputs": [],
   "source": [
    "class RegularizedStochasticGradientDescent:\n",
    "    def __init__(self, learning_rate=0.01, iterations=1000, lambda_value=0.01, rho=0.9, batch_size=1):\n",
    "        self.learning_rate = learning_rate\n",
    "        self.iterations = iterations\n",
    "        self.lambda_value = lambda_value\n",
    "        self.rho = rho\n",
    "        self.batch_size = batch_size\n",
    "        self.coefficients = None\n",
    "\n",
    "    def _compute_regularization_term(self, coefficients):\n",
    "        l1_term = self.lambda_value * self.rho * np.sign(coefficients)\n",
    "        l2_term = 2 * self.lambda_value * (1 - self.rho) * coefficients\n",
    "        return l1_term + l2_term\n",
    "\n",
    "    def fit(self, X, Y):\n",
    "        n, m = X.shape\n",
    "        self.coefficients = np.zeros(m)\n",
    "\n",
    "        for _ in range(self.iterations):\n",
    "            indices = np.random.choice(n, size=self.batch_size, replace=False)\n",
    "            X_batch, Y_batch = X[indices], Y[indices]\n",
    "\n",
    "            predictions = X_batch @ self.coefficients\n",
    "            errors = predictions - Y_batch\n",
    "            gradient = 2 * X_batch.T @ errors / len(Y_batch)\n",
    "\n",
    "            regularization_term = self._compute_regularization_term(self.coefficients)\n",
    "            gradient += regularization_term\n",
    "\n",
    "            self.coefficients = self.coefficients - self.learning_rate * gradient\n",
    "\n",
    "    def predict(self, X):\n",
    "        return X @ self.coefficients"
   ]
  },
  {
   "cell_type": "code",
   "execution_count": 178,
   "id": "b7b4096e",
   "metadata": {},
   "outputs": [
    {
     "name": "stdout",
     "output_type": "stream",
     "text": [
      "MSE Train: 0.30840307683960394, MSE Test: 0.3894595894900339, MSE Difference: 0.08105651265042996\n",
      "MSE Train: 0.31170222732441855, MSE Test: 0.39085744733325284, MSE Difference: 0.07915522000883429\n",
      "MSE Train: 0.31633284641770093, MSE Test: 0.39639361300162246, MSE Difference: 0.08006076658392153\n",
      "MSE Train: 0.31499982875744387, MSE Test: 0.3946333539110542, MSE Difference: 0.07963352515361033\n",
      "MSE Train: 0.32242420090600477, MSE Test: 0.40234472667302124, MSE Difference: 0.07992052576701647\n",
      "MSE Train: 0.3210040798924266, MSE Test: 0.401179692973125, MSE Difference: 0.08017561308069843\n",
      "MSE Train: 0.33628189520527574, MSE Test: 0.4188275414073662, MSE Difference: 0.08254564620209048\n",
      "MSE Train: 0.32945799049456703, MSE Test: 0.41375679202858123, MSE Difference: 0.0842988015340142\n",
      "MSE Train: 0.5289678408025479, MSE Test: 0.6036446156101544, MSE Difference: 0.07467677480760648\n",
      "MSE Train: 0.4900730285533348, MSE Test: 0.5653692585113183, MSE Difference: 0.07529622995798346\n",
      "MSE Train: 0.7526296271793977, MSE Test: 0.8313878196436857, MSE Difference: 0.07875819246428795\n",
      "MSE Train: 0.7653603501642158, MSE Test: 0.8530678514506963, MSE Difference: 0.08770750128648053\n",
      "MSE Train: 0.5346979232392232, MSE Test: 0.609792540458439, MSE Difference: 0.07509461721921584\n",
      "MSE Train: 0.5667528669431862, MSE Test: 0.6402003768861151, MSE Difference: 0.07344750994292892\n",
      "MSE Train: 0.8705666947550973, MSE Test: 0.9498407177625422, MSE Difference: 0.0792740230074449\n",
      "MSE Train: 1.0018173303481048, MSE Test: 1.0863651974830477, MSE Difference: 0.08454786713494289\n",
      "Best MSE Difference: 0.07344750994292892\n"
     ]
    }
   ],
   "source": [
    "best_lambda = None\n",
    "best_rho = None\n",
    "best_mse_diff = float('inf')\n",
    "\n",
    "for lambda_value in [0.01, 0.1, 0.9, 1]:\n",
    "    for rho_value in [0.01, 0.1,  0.9, 1]:\n",
    "        \n",
    "        model = RegularizedStochasticGradientDescent(learning_rate=0.01, iterations=3000, lambda_value=lambda_value, rho=rho_value)\n",
    "        model.fit(X_train, Y_train)\n",
    "        \n",
    "        predictions_train = model.predict(X_train)\n",
    "        predictions_test = model.predict(X_test)\n",
    "\n",
    "        mse_train = np.mean((predictions_train - Y_train) ** 2)\n",
    "        mse_test = np.mean((predictions_test - Y_test) ** 2)\n",
    "        mse_diff = abs(mse_train - mse_test)\n",
    "\n",
    "        print(f\"MSE Train: {mse_train}, MSE Test: {mse_test}, MSE Difference: {mse_diff}\")\n",
    "\n",
    "        if mse_diff < best_mse_diff:\n",
    "            best_mse_diff = mse_diff\n",
    "\n",
    "print(f\"Best MSE Difference: {best_mse_diff}\")"
   ]
  },
  {
   "cell_type": "code",
   "execution_count": null,
   "id": "a1f46a59",
   "metadata": {},
   "outputs": [],
   "source": []
  }
 ],
 "metadata": {
  "kernelspec": {
   "display_name": "Python 3 (ipykernel)",
   "language": "python",
   "name": "python3"
  },
  "language_info": {
   "codemirror_mode": {
    "name": "ipython",
    "version": 3
   },
   "file_extension": ".py",
   "mimetype": "text/x-python",
   "name": "python",
   "nbconvert_exporter": "python",
   "pygments_lexer": "ipython3",
   "version": "3.11.1"
  }
 },
 "nbformat": 4,
 "nbformat_minor": 5
}
